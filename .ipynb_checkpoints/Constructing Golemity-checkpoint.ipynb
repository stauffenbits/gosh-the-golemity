{
 "cells": [
  {
   "cell_type": "markdown",
   "metadata": {},
   "source": [
    "# Gosh the Golemity\n",
    "\n",
    "By [Joshua M. Moore](mailto:moore.joshua@pm.me)<br>\n",
    "On July 29th, 2020"
   ]
  },
  {
   "cell_type": "markdown",
   "metadata": {},
   "source": [
    "In this notebook, I try to build smarter golems. It is comprised of five parts, progressively building on each other.\n",
    "\n",
    "1. The Gene\n",
    "2. Parsing: An Interlude\n",
    "3. The Golem\n",
    "4. The Selection\n",
    "5. Visualization"
   ]
  },
  {
   "cell_type": "markdown",
   "metadata": {},
   "source": [
    "## 1 - The Gene"
   ]
  },
  {
   "cell_type": "code",
   "execution_count": 1,
   "metadata": {},
   "outputs": [],
   "source": [
    "var {performance} = require('perf_hooks');\n",
    "var peg = require('pegjs');\n",
    "var fs = require('fs');\n",
    "var g = fs.readFileSync('./node_modules/pegjs/examples/javascript.pegjs', 'utf8');\n",
    "var parser = peg.generate(g, {\n",
    "  cache: true\n",
    "})\n",
    "var copy = x => parseFloat(x);\n",
    "\n",
    "var Gene = class Gene {\n",
    "  constructor(code){\n",
    "    this.code = code;\n",
    "    this.cost = Infinity;\n",
    "    this.calcCost();\n",
    "  }\n",
    "  \n",
    "  cross(other){\n",
    "    var middle = Math.round(Math.floor(this.code.length/2));\n",
    "    var one = new Gene([\n",
    "      this.code.substring(0, middle), \n",
    "      other.code.substring(middle)\n",
    "    ].join(''));\n",
    "    \n",
    "    middle = Math.round(Math.floor(other.code.length/2));\n",
    "    var two = new Gene([\n",
    "      other.code.substring(0, middle),\n",
    "      this.code.substring(middle),\n",
    "    ].join(''));\n",
    "    \n",
    "    return [one, two];\n",
    "  }\n",
    "  \n",
    "  randomCross(other, slide=0.5){\n",
    "    var makeScaled = \n",
    "        (xmin, xmax, ymax) =>\n",
    "          (x) => \n",
    "            ((x - xmin) / (xmax - xmin))*ymax;\n",
    "    \n",
    "    var scaledOne = makeScaled(0, this.code.length, other.code.length);\n",
    "    var scaledTwo = makeScaled(0, other.code.length, this.code.length);\n",
    "    \n",
    "    return new Gene([...this.code].map(\n",
    "      (c, i) => Math.random() < slide ? \n",
    "        this.code[Math.round(scaledOne(i))] : \n",
    "        other.code[Math.round(scaledTwo(i))]\n",
    "    ).join(''))\n",
    "  }\n",
    "  \n",
    "  mutate(by=1.0){\n",
    "    this.code = String.fromCharCode.apply(String, [...this.code].map((c, i) => {\n",
    "      var cc = this.code.charCodeAt(i);\n",
    "      \n",
    "      var howMuch = Math.round(by * Math.random() * (126 - 32));\n",
    "      \n",
    "      cc -= howMuch;\n",
    "      \n",
    "      if(cc < 32){\n",
    "        cc = 126 - (32 - cc);\n",
    "      }\n",
    "      \n",
    "      return cc;\n",
    "    }))\n",
    "    \n",
    "    this.calcCost();\n",
    "    \n",
    "    return this;\n",
    "  }\n",
    "  \n",
    "  calcCost(chromosomeCost=Gene.defaultChromosomeCost){\n",
    "    this.cost = [...this.code].reduce((total, c, i) => total + chromosomeCost(c, i), 0);\n",
    "    return this;\n",
    "  }\n",
    "  \n",
    "  static defaultChromosomeCost(c, i){\n",
    "    var t0;\n",
    "    try{\n",
    "      t0 = performance.now();\n",
    "      parser.parse(this.code);\n",
    "    }catch(e){\n",
    "    }finally{\n",
    "      return performance.now() - t0;\n",
    "    }\n",
    "  }\n",
    "  \n",
    "  copy(){\n",
    "    return new Gene(this.code);\n",
    "  }\n",
    "}"
   ]
  },
  {
   "cell_type": "code",
   "execution_count": 2,
   "metadata": {},
   "outputs": [
    {
     "data": {
      "text/plain": [
       "Gene { code: 'Hello', cost: 1.0040319971740246 }"
      ]
     },
     "execution_count": 2,
     "metadata": {},
     "output_type": "execute_result"
    }
   ],
   "source": [
    "var gene = new Gene(\"Hello\")\n",
    "gene"
   ]
  },
  {
   "cell_type": "code",
   "execution_count": 3,
   "metadata": {},
   "outputs": [
    {
     "data": {
      "text/plain": [
       "Gene { code: 'World', cost: 0.5099110007286072 }"
      ]
     },
     "execution_count": 3,
     "metadata": {},
     "output_type": "execute_result"
    }
   ],
   "source": [
    "var gene2 = new Gene(\"World\")\n",
    "gene2"
   ]
  },
  {
   "cell_type": "code",
   "execution_count": 4,
   "metadata": {},
   "outputs": [
    {
     "data": {
      "text/plain": [
       "Gene { code: 'Herld', cost: 0.4917840026319027 }"
      ]
     },
     "execution_count": 4,
     "metadata": {},
     "output_type": "execute_result"
    }
   ],
   "source": [
    "gene.randomCross(gene2)"
   ]
  },
  {
   "cell_type": "markdown",
   "metadata": {},
   "source": [
    "This, just with syllables would be killer, and might try to explain on a toy example, shifts in language, although that probably requires the Golems writing their own standard for beauty... What if the golems got to just pick a random evaluation function, by which they rank each other? A popularity contest."
   ]
  },
  {
   "cell_type": "markdown",
   "metadata": {},
   "source": [
    "Sounds like a LISP might be in order."
   ]
  },
  {
   "cell_type": "code",
   "execution_count": 5,
   "metadata": {},
   "outputs": [],
   "source": [
    "var gene3 = new Gene('Ronald Marshall Moore');\n",
    "var gene4 = new Gene('Susanne Ute Dressel');"
   ]
  },
  {
   "cell_type": "code",
   "execution_count": 6,
   "metadata": {},
   "outputs": [
    {
     "data": {
      "text/plain": [
       "Gene { code: 'Rusaldd te Dhalel M', cost: 1.8083890080451965 }"
      ]
     },
     "execution_count": 6,
     "metadata": {},
     "output_type": "execute_result"
    }
   ],
   "source": [
    "gene5 = gene3.randomCross(gene4)"
   ]
  },
  {
   "cell_type": "markdown",
   "metadata": {},
   "source": [
    "Here are fifty variations: "
   ]
  },
  {
   "cell_type": "code",
   "execution_count": 7,
   "metadata": {},
   "outputs": [
    {
     "name": "stdout",
     "output_type": "stream",
     "text": [
      "Gene { code: 'Jnshu`}Marrh`kl Mnoqd', cost: 2.688234992325306 }\n",
      "Gene { code: 'Jnrht`}Laqrh_kk Lmnpc', cost: 4.264780003577471 }\n",
      "Gene { code: 'Imrgs_|L`qqh_kj}Kmmpc', cost: 1.5325919911265373 }\n",
      "Gene { code: 'Ilrgs_{L_qpg_ki}Jmmob', cost: 1.828418992459774 }\n",
      "Gene { code: 'Hkqfr_zK^ppg^ji|Jllob', cost: 1.456225000321865 }\n",
      "Gene { code: 'Gjpeq_yJ]pof]jh|Ikloa', cost: 1.5540629960596561 }\n",
      "Gene { code: 'Fjoep^yI]one]jg|Ikln`', cost: 1.3652869947254658 }\n",
      "Gene { code: 'Ejoep^xI]nme\\\\jg|Hkkm_', cost: 1.3872790075838566 }\n",
      "Gene { code: 'Dioep^wH]mld\\\\if{Hjjl_', cost: 3.652544017881155 }\n",
      "Gene { code: 'Cindo^vH\\\\mlc\\\\iezGjjk^', cost: 1.4684109911322594 }\n",
      "Gene { code: 'Bhmcn]uG[llc[heyGiik]', cost: 1.3858040049672127 }\n",
      "Gene { code: 'Ahlbn]tF[llbZgdxFhik\\\\', cost: 2.6089999936521053 }\n",
      "Gene { code: '@gkbm\\\\tEZlkaZfdwEgij[', cost: 1.4204029962420464 }\n",
      "Gene { code: '?gjal\\\\sDZkk`ZedwDfhiZ', cost: 1.3940169960260391 }\n",
      "Gene { code: '?gi`l\\\\sDZkj`YddvCeghZ', cost: 6.327224999666214 }\n",
      "Gene { code: '?fi_l[rCZjj`YccuCdfgY', cost: 7.409155003726482 }\n",
      "Gene { code: '?eh^k[rBZij_XbctBdefY', cost: 9.631908006966114 }\n",
      "Gene { code: '>dh]j[qAYij^XacsBddfY', cost: 4.0661079958081245 }\n",
      "Gene { code: '>dh]i[pAXij]WacsAcdfY', cost: 1.3869159929454327 }\n",
      "Gene { code: '=cg\\\\h[p@Whi]W`crAcdfX', cost: 3.6433570086956024 }\n",
      "Gene { code: '=cg\\\\gZp?Wgh\\\\W`cq@cceX', cost: 5.284605015069246 }\n",
      "Gene { code: '<bg\\\\fZo>Vfg[W`cq?cbeX', cost: 9.294812999665737 }\n",
      "Gene { code: ';ag[eZn=VegZV_bq>badW', cost: 1.3814759999513626 }\n",
      "Gene { code: ';`g[dYm<UefYU^bq=bacW', cost: 1.3211479969322681 }\n",
      "Gene { code: ';_f[dXl;UdeYU]bp<b`cV', cost: 1.3097229935228825 }\n",
      "0\n"
     ]
    }
   ],
   "source": [
    "var count = 25;\n",
    "gene5 = new Gene('Joshua Marshall Moore')\n",
    "\n",
    "do{\n",
    "  gene5.mutate(0.012)\n",
    "  console.log(gene5)\n",
    "  \n",
    "  count--;\n",
    "}while(count > 0);\n",
    "\n",
    "console.log(count)"
   ]
  },
  {
   "cell_type": "markdown",
   "metadata": {},
   "source": [
    "## 2 - Parsing: An Interlude"
   ]
  },
  {
   "cell_type": "code",
   "execution_count": 8,
   "metadata": {},
   "outputs": [
    {
     "name": "stdout",
     "output_type": "stream",
     "text": [
      "0 .fQz6kid4o;R>EKA!'o&`,Q&s`(SP4\"p0/U6),>_?p|H*Zr.<*Rw0@dmf!taWJxtMu,bw0|6c}b($CY^IR'+>iGsop*HnsA,L?o%T ^h7`d# S8YO.z0T\\LlK44| Smq,,U8]Qgo1V#Ddr>;g6J|Z^;4+$L[P&uGS9Kd+.,Y#s?pc%pPzBsQSp7gi=['[k#xDN1PP0^/4Z`Hd+5^OEu\"COYenGm]r$EQy?)`4W\"vHLE+?x4#U'\\TvhY6`vH1u]Ht8Kc>/CZ^vr[> I@'d>*Gc`DBGWd.?$DN.xLbYUU?EH?h\n"
     ]
    }
   ],
   "source": [
    "var genome = genome = new Gene(String.fromCharCode((126 - 32) / 2).repeat(300));\n",
    "\n",
    "// in biblical tradition, they are donts\n",
    "var commandments = [\n",
    "  /^\\/\\/.*/g\n",
    "];\n",
    "\n",
    "var count = 50;\n",
    "do{\n",
    "  var heed = command => command.test(genome);\n",
    "  var heeded = commandments.every(heed => !heed.test(genome.code));\n",
    "  \n",
    "  if(heeded){\n",
    "    try{\n",
    "      parser.parse(genome.code);\n",
    "    }catch(e){\n",
    "      genome.mutate(0.5)\n",
    "    }\n",
    "  }else{\n",
    "    genome.mutate(0.5)\n",
    "  }\n",
    "  \n",
    "  count--;\n",
    "}while(count > 0);\n",
    "\n",
    "console.log(count, genome.code)"
   ]
  },
  {
   "cell_type": "markdown",
   "metadata": {},
   "source": [
    "Still just random, there is no feedback for selection. "
   ]
  },
  {
   "cell_type": "markdown",
   "metadata": {},
   "source": [
    "## 3 - The Golem"
   ]
  },
  {
   "cell_type": "code",
   "execution_count": 9,
   "metadata": {},
   "outputs": [],
   "source": [
    "var generations = 50;\n",
    "\n",
    "var commandments = [\n",
    "  /^(?!\\/\\/$).*/\n",
    "];\n",
    "\n",
    "var Golem = class Golem {\n",
    "  constructor(){\n",
    "    this.genome = new Gene(String.fromCharCode((126 - 32) / 2).repeat(300));\n",
    "    this.genome.mutate(0.02);\n",
    "  }\n",
    "  \n",
    "  viable(){\n",
    "    var error = false;\n",
    "    var heed = command => command.test(genome);\n",
    "\n",
    "    if(commandments){\n",
    "      var heeded = commandments.every(heed => heed.test(genome.code));\n",
    "      if(!heeded) return false;\n",
    "    }\n",
    "    \n",
    "    try{\n",
    "      var t0 = performance.now();\n",
    "      parser.parse(genome.code);\n",
    "    }catch(e){\n",
    "      return false;\n",
    "    }finally{\n",
    "      return performance.now() - t0;\n",
    "    }\n",
    "  }\n",
    "  \n",
    "  mate(other){\n",
    "    var child = new Golem();\n",
    "    child.genome = this.genome.randomCross(other.genome);\n",
    "    \n",
    "    while(!child.viable()){\n",
    "      child.genome.mutate(0.05);\n",
    "    }\n",
    "    \n",
    "    return child;\n",
    "  }\n",
    "}\n",
    "\n",
    "var adam = new Golem();\n",
    "var eve = new Golem();\n",
    "var ohigod = new Golem();\n",
    "\n",
    "var golemity = [adam, eve, ohigod];"
   ]
  },
  {
   "cell_type": "markdown",
   "metadata": {},
   "source": [
    "## 4 - The Selection"
   ]
  },
  {
   "cell_type": "code",
   "execution_count": 10,
   "metadata": {},
   "outputs": [],
   "source": [
    "function ratchetStep(golem){\n",
    "  var mutated = golem.genome.copy().mutate(0.25);\n",
    "  \n",
    "  var m;\n",
    "  try{\n",
    "    var m0 = performance.now();\n",
    "    parser.parse(mutated);\n",
    "  }catch(e){\n",
    "  }finally{\n",
    "    m = performance.now() - m0;\n",
    "  }\n",
    "  \n",
    "  if(mutated.cost > golem.genome.cost){\n",
    "    golem.genome = mutated;\n",
    "  }\n",
    "  \n",
    "  return golem;\n",
    "}\n",
    "\n",
    "function byCostDesc(a, b){\n",
    "  return b.genome.cost - a.genome.cost;\n",
    "}"
   ]
  },
  {
   "cell_type": "code",
   "execution_count": 11,
   "metadata": {},
   "outputs": [
    {
     "name": "stdout",
     "output_type": "stream",
     "text": [
      "┌─────────┬─────┬────────────┬───────────────────┬────────────────────┬───────────────────┬────────────────────┬──────────────────────┐\n",
      "│ (index) │  i  │ population │ population_change │      max_cost      │  max_cost_change  │      min_cost      │   min_cost_change    │\n",
      "├─────────┼─────┼────────────┼───────────────────┼────────────────────┼───────────────────┼────────────────────┼──────────────────────┤\n",
      "│    0    │  0  │     3      │         0         │  34.400245975703   │         0         │ 20.673215966671705 │          0           │\n",
      "│    1    │  3  │     5      │         2         │  34.400245975703   │         0         │ 20.677744954824448 │ 0.004528988152742386 │\n",
      "│    2    │  7  │     8      │         3         │  34.400245975703   │         0         │ 22.939981915056705 │  2.262236960232258   │\n",
      "│    3    │ 12  │     11     │         3         │  34.400245975703   │         0         │ 21.109461974352598 │ -1.8305199407041073  │\n",
      "│    4    │ 19  │     16     │         5         │  34.400245975703   │         0         │ 18.87708794698119  │ -2.2323740273714066  │\n",
      "│    5    │ 29  │     23     │         7         │ 41.732876028865576 │ 7.332630053162575 │ 20.05995200201869  │  1.1828640550374985  │\n",
      "│    6    │ 43  │     33     │        10         │ 58.79481498897076  │ 17.06193896010518 │ 21.064280971884727 │  1.0043289698660374  │\n",
      "│    7    │ 63  │     48     │        15         │ 58.79481498897076  │         0         │ 18.866866007447243 │ -2.1974149644374847  │\n",
      "│    8    │ 91  │     68     │        20         │ 58.79481498897076  │         0         │ 18.98603903129697  │ 0.11917302384972572  │\n",
      "│    9    │ 131 │     97     │        29         │ 58.79481498897076  │         0         │ 18.504792023450136 │ -0.4812470078468323  │\n",
      "│   10    │ 149 │    100     │         3         │ 58.79481498897076  │         0         │ 18.37890000268817  │ -0.1258920207619667  │\n",
      "│   11    │ 165 │    100     │         0         │ 58.79481498897076  │         0         │ 19.645713966339827 │  1.266813963651657   │\n",
      "│   12    │ 181 │    100     │         0         │ 58.79481498897076  │         0         │ 19.046978026628494 │ -0.5987359397113323  │\n",
      "│   13    │ 197 │    100     │         0         │ 58.79481498897076  │         0         │ 20.56588599830866  │  1.5189079716801643  │\n",
      "│   14    │ 213 │    100     │         0         │ 64.64209900796413  │ 5.847284018993378 │ 20.050798032432795 │  -0.515087965875864  │\n",
      "└─────────┴─────┴────────────┴───────────────────┴────────────────────┴───────────────────┴────────────────────┴──────────────────────┘\n",
      "Golem {\n",
      "  genome: Gene {\n",
      "    code: 'QYf`BJFkN[UUHM\\\\DC;;^r9ZBUjNIRQ>qBFP@IirZWOECE]?U=XiJDGXL8TRdXcSXJb=IZbfX;JTQiAJJSGQFFBISUOTLkAaN`dfIrEUdf6^k,ULZ/amEP=JVgS@b[h\\\\NO:HHLaDOPS_b`iVIbTcC`ZgQQVR\\\\FV;|O,fRgH>K6Vg@MZMYBHONtaYQLS<]HZ\\\\XPc7Ec]gbq?@_YRcbSHaWJ78MW][ZV\\\\OXiIV?He>CVQ`O`IPJ<kJFO[UWL]IFIg]XqMZONSYBiNYL;`ZDOBR2[?LeBaSQSN`*H^S6XJS5XBCN',\n",
      "    cost: 64.64209900796413\n",
      "  }\n",
      "}\n"
     ]
    }
   ],
   "source": [
    "var indicators = ['/', '-', '\\\\', '|'];\n",
    "var i=0;\n",
    "\n",
    "var countdown = 15;\n",
    "var POPULATION = 100;\n",
    "var BIRTH = 0.68;\n",
    "var DEATH = 0.15;\n",
    "var RADIATION = 0.025;\n",
    "\n",
    "var records = [];\n",
    "while(countdown--){\n",
    "  golemity = golemity.map(g => ratchetStep(g))\n",
    "    .filter(g => g !== undefined)\n",
    "    .sort(byCostDesc);\n",
    "  \n",
    "  // history\n",
    "  var previous = records[records.length - 1];\n",
    "  \n",
    "  // census\n",
    "  var record = {\n",
    "    'i': i, \n",
    "    'population': copy(golemity.length), \n",
    "    'population_change': 0.0,\n",
    "    'max_cost': copy(golemity[0].genome.cost),\n",
    "    'max_cost_change': 0.0,\n",
    "    'min_cost': copy(golemity[golemity.length-1].genome.cost),\n",
    "    'min_cost_change': 0.0,\n",
    "  };\n",
    "  \n",
    "  if(previous !== undefined){\n",
    "    record.population_change = record.population - previous.population;\n",
    "    record.max_cost_change = record.max_cost - previous.max_cost;\n",
    "    record.min_cost_change = record.min_cost - previous.min_cost;\n",
    "    // todo justify order\n",
    "  }\n",
    "  \n",
    "  records.push(record);\n",
    "  \n",
    "  // death\n",
    "  golemity = golemity.slice(\n",
    "    0, \n",
    "    golemity.length - Math.floor(golemity.length * DEATH)\n",
    "  )\n",
    "  \n",
    "  // birth\n",
    "  // Come to think of it, heaven must be hella weird.\n",
    "  var stepBirth = Math.floor(golemity.length * BIRTH);\n",
    "  \n",
    "  while(stepBirth > 0 && golemity.length < POPULATION){\n",
    "    var a = Math.floor(Math.random() * golemity.length);\n",
    "    var b = Math.floor(Math.random() * golemity.length);\n",
    "    \n",
    "    var mini = golemity[a].mate(golemity[b])\n",
    "    golemity.push(mini);\n",
    "    stepBirth--;\n",
    "      \n",
    "    process.stdout.write(`${indicators[i++%indicators.length]}\\r`);\n",
    "  }\n",
    "  \n",
    "  process.stdout.write(`${indicators[i++%indicators.length]} ${countdown} rounds remaining\\r`);\n",
    "}\n",
    "\n",
    "console.table(records);\n",
    "console.log(golemity[0]);"
   ]
  },
  {
   "cell_type": "markdown",
   "metadata": {},
   "source": [
    "## 5 - Visualizations"
   ]
  },
  {
   "cell_type": "code",
   "execution_count": 12,
   "metadata": {},
   "outputs": [
    {
     "data": {
      "image/svg+xml": [
       "<svg class=\"marks\" width=\"361\" height=\"867\" viewBox=\"0 0 361 867\" version=\"1.1\" xmlns=\"http://www.w3.org/2000/svg\" xmlns:xlink=\"http://www.w3.org/1999/xlink\"><g transform=\"translate(55,30)\"><g class=\"mark-group role-frame root\"><g transform=\"translate(0,0)\"><path class=\"background\" d=\"M0,0h0v0h0Z\" style=\"fill: none;\"></path><g><g class=\"mark-group role-scope concat_0_group\"><g transform=\"translate(0,0)\"><path class=\"background\" d=\"M0.5,0.5h300v200h-300Z\" style=\"fill: none; stroke: #ddd;\"></path><g><g class=\"mark-group role-axis\"><g transform=\"translate(0.5,0.5)\"><path class=\"background\" d=\"M0,0h0v0h0Z\" style=\"pointer-events: none; fill: none;\"></path><g><g class=\"mark-rule role-axis-grid\" style=\"pointer-events: none;\"><line transform=\"translate(0,200)\" x2=\"300\" y2=\"0\" style=\"fill: none; stroke: #ddd; stroke-width: 1; opacity: 1;\"></line><line transform=\"translate(0,160)\" x2=\"300\" y2=\"0\" style=\"fill: none; stroke: #ddd; stroke-width: 1; opacity: 1;\"></line><line transform=\"translate(0,120)\" x2=\"300\" y2=\"0\" style=\"fill: none; stroke: #ddd; stroke-width: 1; opacity: 1;\"></line><line transform=\"translate(0,80)\" x2=\"300\" y2=\"0\" style=\"fill: none; stroke: #ddd; stroke-width: 1; opacity: 1;\"></line><line transform=\"translate(0,40)\" x2=\"300\" y2=\"0\" style=\"fill: none; stroke: #ddd; stroke-width: 1; opacity: 1;\"></line><line transform=\"translate(0,0)\" x2=\"300\" y2=\"0\" style=\"fill: none; stroke: #ddd; stroke-width: 1; opacity: 1;\"></line></g></g></g></g><g class=\"mark-symbol role-mark concat_0_marks\"><path transform=\"translate(10,194)\" d=\"M2.7386127875258306,0A2.7386127875258306,2.7386127875258306,0,1,1,-2.7386127875258306,0A2.7386127875258306,2.7386127875258306,0,1,1,2.7386127875258306,0\" style=\"fill: none; stroke: #4c78a8; stroke-width: 2; opacity: 0.7;\"></path><path transform=\"translate(30,190)\" d=\"M2.7386127875258306,0A2.7386127875258306,2.7386127875258306,0,1,1,-2.7386127875258306,0A2.7386127875258306,2.7386127875258306,0,1,1,2.7386127875258306,0\" style=\"fill: none; stroke: #4c78a8; stroke-width: 2; opacity: 0.7;\"></path><path transform=\"translate(50,184)\" d=\"M2.7386127875258306,0A2.7386127875258306,2.7386127875258306,0,1,1,-2.7386127875258306,0A2.7386127875258306,2.7386127875258306,0,1,1,2.7386127875258306,0\" style=\"fill: none; stroke: #4c78a8; stroke-width: 2; opacity: 0.7;\"></path><path transform=\"translate(70,178)\" d=\"M2.7386127875258306,0A2.7386127875258306,2.7386127875258306,0,1,1,-2.7386127875258306,0A2.7386127875258306,2.7386127875258306,0,1,1,2.7386127875258306,0\" style=\"fill: none; stroke: #4c78a8; stroke-width: 2; opacity: 0.7;\"></path><path transform=\"translate(90,168)\" d=\"M2.7386127875258306,0A2.7386127875258306,2.7386127875258306,0,1,1,-2.7386127875258306,0A2.7386127875258306,2.7386127875258306,0,1,1,2.7386127875258306,0\" style=\"fill: none; stroke: #4c78a8; stroke-width: 2; opacity: 0.7;\"></path><path transform=\"translate(110,154)\" d=\"M2.7386127875258306,0A2.7386127875258306,2.7386127875258306,0,1,1,-2.7386127875258306,0A2.7386127875258306,2.7386127875258306,0,1,1,2.7386127875258306,0\" style=\"fill: none; stroke: #4c78a8; stroke-width: 2; opacity: 0.7;\"></path><path transform=\"translate(130,134)\" d=\"M2.7386127875258306,0A2.7386127875258306,2.7386127875258306,0,1,1,-2.7386127875258306,0A2.7386127875258306,2.7386127875258306,0,1,1,2.7386127875258306,0\" style=\"fill: none; stroke: #4c78a8; stroke-width: 2; opacity: 0.7;\"></path><path transform=\"translate(150,104)\" d=\"M2.7386127875258306,0A2.7386127875258306,2.7386127875258306,0,1,1,-2.7386127875258306,0A2.7386127875258306,2.7386127875258306,0,1,1,2.7386127875258306,0\" style=\"fill: none; stroke: #4c78a8; stroke-width: 2; opacity: 0.7;\"></path><path transform=\"translate(170,64)\" d=\"M2.7386127875258306,0A2.7386127875258306,2.7386127875258306,0,1,1,-2.7386127875258306,0A2.7386127875258306,2.7386127875258306,0,1,1,2.7386127875258306,0\" style=\"fill: none; stroke: #4c78a8; stroke-width: 2; opacity: 0.7;\"></path><path transform=\"translate(190,6)\" d=\"M2.7386127875258306,0A2.7386127875258306,2.7386127875258306,0,1,1,-2.7386127875258306,0A2.7386127875258306,2.7386127875258306,0,1,1,2.7386127875258306,0\" style=\"fill: none; stroke: #4c78a8; stroke-width: 2; opacity: 0.7;\"></path><path transform=\"translate(210,0)\" d=\"M2.7386127875258306,0A2.7386127875258306,2.7386127875258306,0,1,1,-2.7386127875258306,0A2.7386127875258306,2.7386127875258306,0,1,1,2.7386127875258306,0\" style=\"fill: none; stroke: #4c78a8; stroke-width: 2; opacity: 0.7;\"></path><path transform=\"translate(230,0)\" d=\"M2.7386127875258306,0A2.7386127875258306,2.7386127875258306,0,1,1,-2.7386127875258306,0A2.7386127875258306,2.7386127875258306,0,1,1,2.7386127875258306,0\" style=\"fill: none; stroke: #4c78a8; stroke-width: 2; opacity: 0.7;\"></path><path transform=\"translate(250,0)\" d=\"M2.7386127875258306,0A2.7386127875258306,2.7386127875258306,0,1,1,-2.7386127875258306,0A2.7386127875258306,2.7386127875258306,0,1,1,2.7386127875258306,0\" style=\"fill: none; stroke: #4c78a8; stroke-width: 2; opacity: 0.7;\"></path><path transform=\"translate(270,0)\" d=\"M2.7386127875258306,0A2.7386127875258306,2.7386127875258306,0,1,1,-2.7386127875258306,0A2.7386127875258306,2.7386127875258306,0,1,1,2.7386127875258306,0\" style=\"fill: none; stroke: #4c78a8; stroke-width: 2; opacity: 0.7;\"></path><path transform=\"translate(290,0)\" d=\"M2.7386127875258306,0A2.7386127875258306,2.7386127875258306,0,1,1,-2.7386127875258306,0A2.7386127875258306,2.7386127875258306,0,1,1,2.7386127875258306,0\" style=\"fill: none; stroke: #4c78a8; stroke-width: 2; opacity: 0.7;\"></path></g><g class=\"mark-text role-title\" style=\"pointer-events: none;\"><text text-anchor=\"middle\" transform=\"translate(150,-13)\" style=\"font-family: sans-serif; font-size: 13px; font-weight: bold; fill: #000; opacity: 1;\">Golem Population</text></g><g class=\"mark-group role-axis\"><g transform=\"translate(0.5,200.5)\"><path class=\"background\" d=\"M0,0h0v0h0Z\" style=\"pointer-events: none; fill: none;\"></path><g><g class=\"mark-rule role-axis-tick\" style=\"pointer-events: none;\"><line transform=\"translate(10,0)\" x2=\"0\" y2=\"5\" style=\"fill: none; stroke: #888; stroke-width: 1; opacity: 1;\"></line><line transform=\"translate(30,0)\" x2=\"0\" y2=\"5\" style=\"fill: none; stroke: #888; stroke-width: 1; opacity: 1;\"></line><line transform=\"translate(50,0)\" x2=\"0\" y2=\"5\" style=\"fill: none; stroke: #888; stroke-width: 1; opacity: 1;\"></line><line transform=\"translate(70,0)\" x2=\"0\" y2=\"5\" style=\"fill: none; stroke: #888; stroke-width: 1; opacity: 1;\"></line><line transform=\"translate(90,0)\" x2=\"0\" y2=\"5\" style=\"fill: none; stroke: #888; stroke-width: 1; opacity: 1;\"></line><line transform=\"translate(110,0)\" x2=\"0\" y2=\"5\" style=\"fill: none; stroke: #888; stroke-width: 1; opacity: 1;\"></line><line transform=\"translate(130,0)\" x2=\"0\" y2=\"5\" style=\"fill: none; stroke: #888; stroke-width: 1; opacity: 1;\"></line><line transform=\"translate(150,0)\" x2=\"0\" y2=\"5\" style=\"fill: none; stroke: #888; stroke-width: 1; opacity: 1;\"></line><line transform=\"translate(170,0)\" x2=\"0\" y2=\"5\" style=\"fill: none; stroke: #888; stroke-width: 1; opacity: 1;\"></line><line transform=\"translate(190,0)\" x2=\"0\" y2=\"5\" style=\"fill: none; stroke: #888; stroke-width: 1; opacity: 1;\"></line><line transform=\"translate(210,0)\" x2=\"0\" y2=\"5\" style=\"fill: none; stroke: #888; stroke-width: 1; opacity: 1;\"></line><line transform=\"translate(230,0)\" x2=\"0\" y2=\"5\" style=\"fill: none; stroke: #888; stroke-width: 1; opacity: 1;\"></line><line transform=\"translate(250,0)\" x2=\"0\" y2=\"5\" style=\"fill: none; stroke: #888; stroke-width: 1; opacity: 1;\"></line><line transform=\"translate(270,0)\" x2=\"0\" y2=\"5\" style=\"fill: none; stroke: #888; stroke-width: 1; opacity: 1;\"></line><line transform=\"translate(290,0)\" x2=\"0\" y2=\"5\" style=\"fill: none; stroke: #888; stroke-width: 1; opacity: 1;\"></line></g><g class=\"mark-text role-axis-label\" style=\"pointer-events: none;\"><text text-anchor=\"end\" transform=\"translate(10,7) rotate(270) translate(0,3)\" style=\"font-family: sans-serif; font-size: 10px; fill: #000; opacity: 1;\">0</text><text text-anchor=\"end\" transform=\"translate(30,7) rotate(270) translate(0,3)\" style=\"font-family: sans-serif; font-size: 10px; fill: #000; opacity: 1;\">3</text><text text-anchor=\"end\" transform=\"translate(50,7) rotate(270) translate(0,3)\" style=\"font-family: sans-serif; font-size: 10px; fill: #000; opacity: 1;\">7</text><text text-anchor=\"end\" transform=\"translate(70,7) rotate(270) translate(0,3)\" style=\"font-family: sans-serif; font-size: 10px; fill: #000; opacity: 1;\">12</text><text text-anchor=\"end\" transform=\"translate(90,7) rotate(270) translate(0,3)\" style=\"font-family: sans-serif; font-size: 10px; fill: #000; opacity: 1;\">19</text><text text-anchor=\"end\" transform=\"translate(110,7) rotate(270) translate(0,3)\" style=\"font-family: sans-serif; font-size: 10px; fill: #000; opacity: 1;\">29</text><text text-anchor=\"end\" transform=\"translate(130,7) rotate(270) translate(0,3)\" style=\"font-family: sans-serif; font-size: 10px; fill: #000; opacity: 1;\">43</text><text text-anchor=\"end\" transform=\"translate(150,7) rotate(270) translate(0,3)\" style=\"font-family: sans-serif; font-size: 10px; fill: #000; opacity: 1;\">63</text><text text-anchor=\"end\" transform=\"translate(170,7) rotate(270) translate(0,3)\" style=\"font-family: sans-serif; font-size: 10px; fill: #000; opacity: 1;\">91</text><text text-anchor=\"end\" transform=\"translate(190,7) rotate(270) translate(0,3)\" style=\"font-family: sans-serif; font-size: 10px; fill: #000; opacity: 1;\">131</text><text text-anchor=\"end\" transform=\"translate(210,7) rotate(270) translate(0,3)\" style=\"font-family: sans-serif; font-size: 10px; fill: #000; opacity: 1;\">149</text><text text-anchor=\"end\" transform=\"translate(230,7) rotate(270) translate(0,3)\" style=\"font-family: sans-serif; font-size: 10px; fill: #000; opacity: 1;\">165</text><text text-anchor=\"end\" transform=\"translate(250,7) rotate(270) translate(0,3)\" style=\"font-family: sans-serif; font-size: 10px; fill: #000; opacity: 1;\">181</text><text text-anchor=\"end\" transform=\"translate(270,7) rotate(270) translate(0,3)\" style=\"font-family: sans-serif; font-size: 10px; fill: #000; opacity: 1;\">197</text><text text-anchor=\"end\" transform=\"translate(290,7) rotate(270) translate(0,3)\" style=\"font-family: sans-serif; font-size: 10px; fill: #000; opacity: 1;\">213</text></g><g class=\"mark-rule role-axis-domain\" style=\"pointer-events: none;\"><line transform=\"translate(0,0)\" x2=\"300\" y2=\"0\" style=\"fill: none; stroke: #888; stroke-width: 1; opacity: 1;\"></line></g><g class=\"mark-text role-axis-title\" style=\"pointer-events: none;\"><text text-anchor=\"middle\" transform=\"translate(150,45)\" style=\"font-family: sans-serif; font-size: 11px; font-weight: bold; fill: #000; opacity: 1;\">i</text></g></g></g></g><g class=\"mark-group role-axis\"><g transform=\"translate(0.5,0.5)\"><path class=\"background\" d=\"M0,0h0v0h0Z\" style=\"pointer-events: none; fill: none;\"></path><g><g class=\"mark-rule role-axis-tick\" style=\"pointer-events: none;\"><line transform=\"translate(0,200)\" x2=\"-5\" y2=\"0\" style=\"fill: none; stroke: #888; stroke-width: 1; opacity: 1;\"></line><line transform=\"translate(0,160)\" x2=\"-5\" y2=\"0\" style=\"fill: none; stroke: #888; stroke-width: 1; opacity: 1;\"></line><line transform=\"translate(0,120)\" x2=\"-5\" y2=\"0\" style=\"fill: none; stroke: #888; stroke-width: 1; opacity: 1;\"></line><line transform=\"translate(0,80)\" x2=\"-5\" y2=\"0\" style=\"fill: none; stroke: #888; stroke-width: 1; opacity: 1;\"></line><line transform=\"translate(0,40)\" x2=\"-5\" y2=\"0\" style=\"fill: none; stroke: #888; stroke-width: 1; opacity: 1;\"></line><line transform=\"translate(0,0)\" x2=\"-5\" y2=\"0\" style=\"fill: none; stroke: #888; stroke-width: 1; opacity: 1;\"></line></g><g class=\"mark-text role-axis-label\" style=\"pointer-events: none;\"><text text-anchor=\"end\" transform=\"translate(-7,203)\" style=\"font-family: sans-serif; font-size: 10px; fill: #000; opacity: 1;\">0</text><text text-anchor=\"end\" transform=\"translate(-7,163)\" style=\"font-family: sans-serif; font-size: 10px; fill: #000; opacity: 1;\">20</text><text text-anchor=\"end\" transform=\"translate(-7,123)\" style=\"font-family: sans-serif; font-size: 10px; fill: #000; opacity: 1;\">40</text><text text-anchor=\"end\" transform=\"translate(-7,83)\" style=\"font-family: sans-serif; font-size: 10px; fill: #000; opacity: 1;\">60</text><text text-anchor=\"end\" transform=\"translate(-7,43)\" style=\"font-family: sans-serif; font-size: 10px; fill: #000; opacity: 1;\">80</text><text text-anchor=\"end\" transform=\"translate(-7,3)\" style=\"font-family: sans-serif; font-size: 10px; fill: #000; opacity: 1;\">100</text></g><g class=\"mark-rule role-axis-domain\" style=\"pointer-events: none;\"><line transform=\"translate(0,200)\" x2=\"0\" y2=\"-200\" style=\"fill: none; stroke: #888; stroke-width: 1; opacity: 1;\"></line></g><g class=\"mark-text role-axis-title\" style=\"pointer-events: none;\"><text text-anchor=\"middle\" transform=\"translate(-36,100) rotate(-90) translate(0,-2)\" style=\"font-family: sans-serif; font-size: 11px; font-weight: bold; fill: #000; opacity: 1;\">population</text></g></g></g></g></g></g></g><g class=\"mark-group role-scope concat_1_group\"><g transform=\"translate(0,293)\"><path class=\"background\" d=\"M0.5,0.5h300v200h-300Z\" style=\"fill: none; stroke: #ddd;\"></path><g><g class=\"mark-group role-axis\"><g transform=\"translate(0.5,0.5)\"><path class=\"background\" d=\"M0,0h0v0h0Z\" style=\"pointer-events: none; fill: none;\"></path><g><g class=\"mark-rule role-axis-grid\" style=\"pointer-events: none;\"><line transform=\"translate(0,200)\" x2=\"300\" y2=\"0\" style=\"fill: none; stroke: #ddd; stroke-width: 1; opacity: 1;\"></line><line transform=\"translate(0,169)\" x2=\"300\" y2=\"0\" style=\"fill: none; stroke: #ddd; stroke-width: 1; opacity: 1;\"></line><line transform=\"translate(0,138)\" x2=\"300\" y2=\"0\" style=\"fill: none; stroke: #ddd; stroke-width: 1; opacity: 1;\"></line><line transform=\"translate(0,108)\" x2=\"300\" y2=\"0\" style=\"fill: none; stroke: #ddd; stroke-width: 1; opacity: 1;\"></line><line transform=\"translate(0,77)\" x2=\"300\" y2=\"0\" style=\"fill: none; stroke: #ddd; stroke-width: 1; opacity: 1;\"></line><line transform=\"translate(0,46)\" x2=\"300\" y2=\"0\" style=\"fill: none; stroke: #ddd; stroke-width: 1; opacity: 1;\"></line><line transform=\"translate(0,15)\" x2=\"300\" y2=\"0\" style=\"fill: none; stroke: #ddd; stroke-width: 1; opacity: 1;\"></line></g></g></g></g><g class=\"mark-symbol role-mark concat_1_marks\"><path transform=\"translate(10,94.15308930552924)\" d=\"M2.7386127875258306,0A2.7386127875258306,2.7386127875258306,0,1,1,-2.7386127875258306,0A2.7386127875258306,2.7386127875258306,0,1,1,2.7386127875258306,0\" style=\"fill: none; stroke: #4c78a8; stroke-width: 2; opacity: 0.7;\"></path><path transform=\"translate(30,94.15308930552924)\" d=\"M2.7386127875258306,0A2.7386127875258306,2.7386127875258306,0,1,1,-2.7386127875258306,0A2.7386127875258306,2.7386127875258306,0,1,1,2.7386127875258306,0\" style=\"fill: none; stroke: #4c78a8; stroke-width: 2; opacity: 0.7;\"></path><path transform=\"translate(50,94.15308930552924)\" d=\"M2.7386127875258306,0A2.7386127875258306,2.7386127875258306,0,1,1,-2.7386127875258306,0A2.7386127875258306,2.7386127875258306,0,1,1,2.7386127875258306,0\" style=\"fill: none; stroke: #4c78a8; stroke-width: 2; opacity: 0.7;\"></path><path transform=\"translate(70,94.15308930552924)\" d=\"M2.7386127875258306,0A2.7386127875258306,2.7386127875258306,0,1,1,-2.7386127875258306,0A2.7386127875258306,2.7386127875258306,0,1,1,2.7386127875258306,0\" style=\"fill: none; stroke: #4c78a8; stroke-width: 2; opacity: 0.7;\"></path><path transform=\"translate(90,94.15308930552924)\" d=\"M2.7386127875258306,0A2.7386127875258306,2.7386127875258306,0,1,1,-2.7386127875258306,0A2.7386127875258306,2.7386127875258306,0,1,1,2.7386127875258306,0\" style=\"fill: none; stroke: #4c78a8; stroke-width: 2; opacity: 0.7;\"></path><path transform=\"translate(110,71.59115068041362)\" d=\"M2.7386127875258306,0A2.7386127875258306,2.7386127875258306,0,1,1,-2.7386127875258306,0A2.7386127875258306,2.7386127875258306,0,1,1,2.7386127875258306,0\" style=\"fill: none; stroke: #4c78a8; stroke-width: 2; opacity: 0.7;\"></path><path transform=\"translate(130,19.09287695701306)\" d=\"M2.7386127875258306,0A2.7386127875258306,2.7386127875258306,0,1,1,-2.7386127875258306,0A2.7386127875258306,2.7386127875258306,0,1,1,2.7386127875258306,0\" style=\"fill: none; stroke: #4c78a8; stroke-width: 2; opacity: 0.7;\"></path><path transform=\"translate(150,19.09287695701306)\" d=\"M2.7386127875258306,0A2.7386127875258306,2.7386127875258306,0,1,1,-2.7386127875258306,0A2.7386127875258306,2.7386127875258306,0,1,1,2.7386127875258306,0\" style=\"fill: none; stroke: #4c78a8; stroke-width: 2; opacity: 0.7;\"></path><path transform=\"translate(170,19.09287695701306)\" d=\"M2.7386127875258306,0A2.7386127875258306,2.7386127875258306,0,1,1,-2.7386127875258306,0A2.7386127875258306,2.7386127875258306,0,1,1,2.7386127875258306,0\" style=\"fill: none; stroke: #4c78a8; stroke-width: 2; opacity: 0.7;\"></path><path transform=\"translate(190,19.09287695701306)\" d=\"M2.7386127875258306,0A2.7386127875258306,2.7386127875258306,0,1,1,-2.7386127875258306,0A2.7386127875258306,2.7386127875258306,0,1,1,2.7386127875258306,0\" style=\"fill: none; stroke: #4c78a8; stroke-width: 2; opacity: 0.7;\"></path><path transform=\"translate(210,19.09287695701306)\" d=\"M2.7386127875258306,0A2.7386127875258306,2.7386127875258306,0,1,1,-2.7386127875258306,0A2.7386127875258306,2.7386127875258306,0,1,1,2.7386127875258306,0\" style=\"fill: none; stroke: #4c78a8; stroke-width: 2; opacity: 0.7;\"></path><path transform=\"translate(230,19.09287695701306)\" d=\"M2.7386127875258306,0A2.7386127875258306,2.7386127875258306,0,1,1,-2.7386127875258306,0A2.7386127875258306,2.7386127875258306,0,1,1,2.7386127875258306,0\" style=\"fill: none; stroke: #4c78a8; stroke-width: 2; opacity: 0.7;\"></path><path transform=\"translate(250,19.09287695701306)\" d=\"M2.7386127875258306,0A2.7386127875258306,2.7386127875258306,0,1,1,-2.7386127875258306,0A2.7386127875258306,2.7386127875258306,0,1,1,2.7386127875258306,0\" style=\"fill: none; stroke: #4c78a8; stroke-width: 2; opacity: 0.7;\"></path><path transform=\"translate(270,19.09287695701306)\" d=\"M2.7386127875258306,0A2.7386127875258306,2.7386127875258306,0,1,1,-2.7386127875258306,0A2.7386127875258306,2.7386127875258306,0,1,1,2.7386127875258306,0\" style=\"fill: none; stroke: #4c78a8; stroke-width: 2; opacity: 0.7;\"></path><path transform=\"translate(290,1.1012338216488047)\" d=\"M2.7386127875258306,0A2.7386127875258306,2.7386127875258306,0,1,1,-2.7386127875258306,0A2.7386127875258306,2.7386127875258306,0,1,1,2.7386127875258306,0\" style=\"fill: none; stroke: #4c78a8; stroke-width: 2; opacity: 0.7;\"></path></g><g class=\"mark-text role-title\" style=\"pointer-events: none;\"><text text-anchor=\"middle\" transform=\"translate(150,-10.637378965877026)\" style=\"font-family: sans-serif; font-size: 13px; font-weight: bold; fill: #000; opacity: 1;\">Golem Max Cost</text></g><g class=\"mark-group role-axis\"><g transform=\"translate(0.5,200.5)\"><path class=\"background\" d=\"M0,0h0v0h0Z\" style=\"pointer-events: none; fill: none;\"></path><g><g class=\"mark-rule role-axis-tick\" style=\"pointer-events: none;\"><line transform=\"translate(10,0)\" x2=\"0\" y2=\"5\" style=\"fill: none; stroke: #888; stroke-width: 1; opacity: 1;\"></line><line transform=\"translate(30,0)\" x2=\"0\" y2=\"5\" style=\"fill: none; stroke: #888; stroke-width: 1; opacity: 1;\"></line><line transform=\"translate(50,0)\" x2=\"0\" y2=\"5\" style=\"fill: none; stroke: #888; stroke-width: 1; opacity: 1;\"></line><line transform=\"translate(70,0)\" x2=\"0\" y2=\"5\" style=\"fill: none; stroke: #888; stroke-width: 1; opacity: 1;\"></line><line transform=\"translate(90,0)\" x2=\"0\" y2=\"5\" style=\"fill: none; stroke: #888; stroke-width: 1; opacity: 1;\"></line><line transform=\"translate(110,0)\" x2=\"0\" y2=\"5\" style=\"fill: none; stroke: #888; stroke-width: 1; opacity: 1;\"></line><line transform=\"translate(130,0)\" x2=\"0\" y2=\"5\" style=\"fill: none; stroke: #888; stroke-width: 1; opacity: 1;\"></line><line transform=\"translate(150,0)\" x2=\"0\" y2=\"5\" style=\"fill: none; stroke: #888; stroke-width: 1; opacity: 1;\"></line><line transform=\"translate(170,0)\" x2=\"0\" y2=\"5\" style=\"fill: none; stroke: #888; stroke-width: 1; opacity: 1;\"></line><line transform=\"translate(190,0)\" x2=\"0\" y2=\"5\" style=\"fill: none; stroke: #888; stroke-width: 1; opacity: 1;\"></line><line transform=\"translate(210,0)\" x2=\"0\" y2=\"5\" style=\"fill: none; stroke: #888; stroke-width: 1; opacity: 1;\"></line><line transform=\"translate(230,0)\" x2=\"0\" y2=\"5\" style=\"fill: none; stroke: #888; stroke-width: 1; opacity: 1;\"></line><line transform=\"translate(250,0)\" x2=\"0\" y2=\"5\" style=\"fill: none; stroke: #888; stroke-width: 1; opacity: 1;\"></line><line transform=\"translate(270,0)\" x2=\"0\" y2=\"5\" style=\"fill: none; stroke: #888; stroke-width: 1; opacity: 1;\"></line><line transform=\"translate(290,0)\" x2=\"0\" y2=\"5\" style=\"fill: none; stroke: #888; stroke-width: 1; opacity: 1;\"></line></g><g class=\"mark-text role-axis-label\" style=\"pointer-events: none;\"><text text-anchor=\"end\" transform=\"translate(10,7) rotate(270) translate(0,3)\" style=\"font-family: sans-serif; font-size: 10px; fill: #000; opacity: 1;\">0</text><text text-anchor=\"end\" transform=\"translate(30,7) rotate(270) translate(0,3)\" style=\"font-family: sans-serif; font-size: 10px; fill: #000; opacity: 1;\">3</text><text text-anchor=\"end\" transform=\"translate(50,7) rotate(270) translate(0,3)\" style=\"font-family: sans-serif; font-size: 10px; fill: #000; opacity: 1;\">7</text><text text-anchor=\"end\" transform=\"translate(70,7) rotate(270) translate(0,3)\" style=\"font-family: sans-serif; font-size: 10px; fill: #000; opacity: 1;\">12</text><text text-anchor=\"end\" transform=\"translate(90,7) rotate(270) translate(0,3)\" style=\"font-family: sans-serif; font-size: 10px; fill: #000; opacity: 1;\">19</text><text text-anchor=\"end\" transform=\"translate(110,7) rotate(270) translate(0,3)\" style=\"font-family: sans-serif; font-size: 10px; fill: #000; opacity: 1;\">29</text><text text-anchor=\"end\" transform=\"translate(130,7) rotate(270) translate(0,3)\" style=\"font-family: sans-serif; font-size: 10px; fill: #000; opacity: 1;\">43</text><text text-anchor=\"end\" transform=\"translate(150,7) rotate(270) translate(0,3)\" style=\"font-family: sans-serif; font-size: 10px; fill: #000; opacity: 1;\">63</text><text text-anchor=\"end\" transform=\"translate(170,7) rotate(270) translate(0,3)\" style=\"font-family: sans-serif; font-size: 10px; fill: #000; opacity: 1;\">91</text><text text-anchor=\"end\" transform=\"translate(190,7) rotate(270) translate(0,3)\" style=\"font-family: sans-serif; font-size: 10px; fill: #000; opacity: 1;\">131</text><text text-anchor=\"end\" transform=\"translate(210,7) rotate(270) translate(0,3)\" style=\"font-family: sans-serif; font-size: 10px; fill: #000; opacity: 1;\">149</text><text text-anchor=\"end\" transform=\"translate(230,7) rotate(270) translate(0,3)\" style=\"font-family: sans-serif; font-size: 10px; fill: #000; opacity: 1;\">165</text><text text-anchor=\"end\" transform=\"translate(250,7) rotate(270) translate(0,3)\" style=\"font-family: sans-serif; font-size: 10px; fill: #000; opacity: 1;\">181</text><text text-anchor=\"end\" transform=\"translate(270,7) rotate(270) translate(0,3)\" style=\"font-family: sans-serif; font-size: 10px; fill: #000; opacity: 1;\">197</text><text text-anchor=\"end\" transform=\"translate(290,7) rotate(270) translate(0,3)\" style=\"font-family: sans-serif; font-size: 10px; fill: #000; opacity: 1;\">213</text></g><g class=\"mark-rule role-axis-domain\" style=\"pointer-events: none;\"><line transform=\"translate(0,0)\" x2=\"300\" y2=\"0\" style=\"fill: none; stroke: #888; stroke-width: 1; opacity: 1;\"></line></g><g class=\"mark-text role-axis-title\" style=\"pointer-events: none;\"><text text-anchor=\"middle\" transform=\"translate(150,45)\" style=\"font-family: sans-serif; font-size: 11px; font-weight: bold; fill: #000; opacity: 1;\">i</text></g></g></g></g><g class=\"mark-group role-axis\"><g transform=\"translate(0.5,0.5)\"><path class=\"background\" d=\"M0,0h0v0h0Z\" style=\"pointer-events: none; fill: none;\"></path><g><g class=\"mark-rule role-axis-tick\" style=\"pointer-events: none;\"><line transform=\"translate(0,200)\" x2=\"-5\" y2=\"0\" style=\"fill: none; stroke: #888; stroke-width: 1; opacity: 1;\"></line><line transform=\"translate(0,169)\" x2=\"-5\" y2=\"0\" style=\"fill: none; stroke: #888; stroke-width: 1; opacity: 1;\"></line><line transform=\"translate(0,138)\" x2=\"-5\" y2=\"0\" style=\"fill: none; stroke: #888; stroke-width: 1; opacity: 1;\"></line><line transform=\"translate(0,108)\" x2=\"-5\" y2=\"0\" style=\"fill: none; stroke: #888; stroke-width: 1; opacity: 1;\"></line><line transform=\"translate(0,77)\" x2=\"-5\" y2=\"0\" style=\"fill: none; stroke: #888; stroke-width: 1; opacity: 1;\"></line><line transform=\"translate(0,46)\" x2=\"-5\" y2=\"0\" style=\"fill: none; stroke: #888; stroke-width: 1; opacity: 1;\"></line><line transform=\"translate(0,15)\" x2=\"-5\" y2=\"0\" style=\"fill: none; stroke: #888; stroke-width: 1; opacity: 1;\"></line></g><g class=\"mark-text role-axis-label\" style=\"pointer-events: none;\"><text text-anchor=\"end\" transform=\"translate(-7,203)\" style=\"font-family: sans-serif; font-size: 10px; fill: #000; opacity: 1;\">0</text><text text-anchor=\"end\" transform=\"translate(-7,172.23076923076923)\" style=\"font-family: sans-serif; font-size: 10px; fill: #000; opacity: 1;\">10</text><text text-anchor=\"end\" transform=\"translate(-7,141.46153846153845)\" style=\"font-family: sans-serif; font-size: 10px; fill: #000; opacity: 1;\">20</text><text text-anchor=\"end\" transform=\"translate(-7,110.6923076923077)\" style=\"font-family: sans-serif; font-size: 10px; fill: #000; opacity: 1;\">30</text><text text-anchor=\"end\" transform=\"translate(-7,79.92307692307692)\" style=\"font-family: sans-serif; font-size: 10px; fill: #000; opacity: 1;\">40</text><text text-anchor=\"end\" transform=\"translate(-7,49.15384615384613)\" style=\"font-family: sans-serif; font-size: 10px; fill: #000; opacity: 1;\">50</text><text text-anchor=\"end\" transform=\"translate(-7,18.384615384615387)\" style=\"font-family: sans-serif; font-size: 10px; fill: #000; opacity: 1;\">60</text></g><g class=\"mark-rule role-axis-domain\" style=\"pointer-events: none;\"><line transform=\"translate(0,200)\" x2=\"0\" y2=\"-200\" style=\"fill: none; stroke: #888; stroke-width: 1; opacity: 1;\"></line></g><g class=\"mark-text role-axis-title\" style=\"pointer-events: none;\"><text text-anchor=\"middle\" transform=\"translate(-28,100) rotate(-90) translate(0,-2)\" style=\"font-family: sans-serif; font-size: 11px; font-weight: bold; fill: #000; opacity: 1;\">max_cost</text></g></g></g></g></g></g></g><g class=\"mark-group role-scope concat_2_group\"><g transform=\"translate(0,582)\"><path class=\"background\" d=\"M0.5,0.5h300v200h-300Z\" style=\"fill: none; stroke: #ddd;\"></path><g><g class=\"mark-group role-axis\"><g transform=\"translate(0.5,0.5)\"><path class=\"background\" d=\"M0,0h0v0h0Z\" style=\"pointer-events: none; fill: none;\"></path><g><g class=\"mark-rule role-axis-grid\" style=\"pointer-events: none;\"><line transform=\"translate(0,200)\" x2=\"300\" y2=\"0\" style=\"fill: none; stroke: #ddd; stroke-width: 1; opacity: 1;\"></line><line transform=\"translate(0,158)\" x2=\"300\" y2=\"0\" style=\"fill: none; stroke: #ddd; stroke-width: 1; opacity: 1;\"></line><line transform=\"translate(0,117)\" x2=\"300\" y2=\"0\" style=\"fill: none; stroke: #ddd; stroke-width: 1; opacity: 1;\"></line><line transform=\"translate(0,75)\" x2=\"300\" y2=\"0\" style=\"fill: none; stroke: #ddd; stroke-width: 1; opacity: 1;\"></line><line transform=\"translate(0,33)\" x2=\"300\" y2=\"0\" style=\"fill: none; stroke: #ddd; stroke-width: 1; opacity: 1;\"></line></g></g></g></g><g class=\"mark-symbol role-mark concat_2_marks\"><path transform=\"translate(10,27.72320027773577)\" d=\"M2.7386127875258306,0A2.7386127875258306,2.7386127875258306,0,1,1,-2.7386127875258306,0A2.7386127875258306,2.7386127875258306,0,1,1,2.7386127875258306,0\" style=\"fill: none; stroke: #4c78a8; stroke-width: 2; opacity: 0.7;\"></path><path transform=\"translate(30,27.68545870979625)\" d=\"M2.7386127875258306,0A2.7386127875258306,2.7386127875258306,0,1,1,-2.7386127875258306,0A2.7386127875258306,2.7386127875258306,0,1,1,2.7386127875258306,0\" style=\"fill: none; stroke: #4c78a8; stroke-width: 2; opacity: 0.7;\"></path><path transform=\"translate(50,8.83348404119414)\" d=\"M2.7386127875258306,0A2.7386127875258306,2.7386127875258306,0,1,1,-2.7386127875258306,0A2.7386127875258306,2.7386127875258306,0,1,1,2.7386127875258306,0\" style=\"fill: none; stroke: #4c78a8; stroke-width: 2; opacity: 0.7;\"></path><path transform=\"translate(70,24.087816880394996)\" d=\"M2.7386127875258306,0A2.7386127875258306,2.7386127875258306,0,1,1,-2.7386127875258306,0A2.7386127875258306,2.7386127875258306,0,1,1,2.7386127875258306,0\" style=\"fill: none; stroke: #4c78a8; stroke-width: 2; opacity: 0.7;\"></path><path transform=\"translate(90,42.690933775156736)\" d=\"M2.7386127875258306,0A2.7386127875258306,2.7386127875258306,0,1,1,-2.7386127875258306,0A2.7386127875258306,2.7386127875258306,0,1,1,2.7386127875258306,0\" style=\"fill: none; stroke: #4c78a8; stroke-width: 2; opacity: 0.7;\"></path><path transform=\"translate(110,32.833733316510916)\" d=\"M2.7386127875258306,0A2.7386127875258306,2.7386127875258306,0,1,1,-2.7386127875258306,0A2.7386127875258306,2.7386127875258306,0,1,1,2.7386127875258306,0\" style=\"fill: none; stroke: #4c78a8; stroke-width: 2; opacity: 0.7;\"></path><path transform=\"translate(130,24.464325234293938)\" d=\"M2.7386127875258306,0A2.7386127875258306,2.7386127875258306,0,1,1,-2.7386127875258306,0A2.7386127875258306,2.7386127875258306,0,1,1,2.7386127875258306,0\" style=\"fill: none; stroke: #4c78a8; stroke-width: 2; opacity: 0.7;\"></path><path transform=\"translate(150,42.77611660460633)\" d=\"M2.7386127875258306,0A2.7386127875258306,2.7386127875258306,0,1,1,-2.7386127875258306,0A2.7386127875258306,2.7386127875258306,0,1,1,2.7386127875258306,0\" style=\"fill: none; stroke: #4c78a8; stroke-width: 2; opacity: 0.7;\"></path><path transform=\"translate(170,41.78300807252526)\" d=\"M2.7386127875258306,0A2.7386127875258306,2.7386127875258306,0,1,1,-2.7386127875258306,0A2.7386127875258306,2.7386127875258306,0,1,1,2.7386127875258306,0\" style=\"fill: none; stroke: #4c78a8; stroke-width: 2; opacity: 0.7;\"></path><path transform=\"translate(190,45.79339980458218)\" d=\"M2.7386127875258306,0A2.7386127875258306,2.7386127875258306,0,1,1,-2.7386127875258306,0A2.7386127875258306,2.7386127875258306,0,1,1,2.7386127875258306,0\" style=\"fill: none; stroke: #4c78a8; stroke-width: 2; opacity: 0.7;\"></path><path transform=\"translate(210,46.84249997759861)\" d=\"M2.7386127875258306,0A2.7386127875258306,2.7386127875258306,0,1,1,-2.7386127875258306,0A2.7386127875258306,2.7386127875258306,0,1,1,2.7386127875258306,0\" style=\"fill: none; stroke: #4c78a8; stroke-width: 2; opacity: 0.7;\"></path><path transform=\"translate(230,36.28571694716811)\" d=\"M2.7386127875258306,0A2.7386127875258306,2.7386127875258306,0,1,1,-2.7386127875258306,0A2.7386127875258306,2.7386127875258306,0,1,1,2.7386127875258306,0\" style=\"fill: none; stroke: #4c78a8; stroke-width: 2; opacity: 0.7;\"></path><path transform=\"translate(250,41.275183111429214)\" d=\"M2.7386127875258306,0A2.7386127875258306,2.7386127875258306,0,1,1,-2.7386127875258306,0A2.7386127875258306,2.7386127875258306,0,1,1,2.7386127875258306,0\" style=\"fill: none; stroke: #4c78a8; stroke-width: 2; opacity: 0.7;\"></path><path transform=\"translate(270,28.61761668076116)\" d=\"M2.7386127875258306,0A2.7386127875258306,2.7386127875258306,0,1,1,-2.7386127875258306,0A2.7386127875258306,2.7386127875258306,0,1,1,2.7386127875258306,0\" style=\"fill: none; stroke: #4c78a8; stroke-width: 2; opacity: 0.7;\"></path><path transform=\"translate(290,32.91001639639336)\" d=\"M2.7386127875258306,0A2.7386127875258306,2.7386127875258306,0,1,1,-2.7386127875258306,0A2.7386127875258306,2.7386127875258306,0,1,1,2.7386127875258306,0\" style=\"fill: none; stroke: #4c78a8; stroke-width: 2; opacity: 0.7;\"></path></g><g class=\"mark-text role-title\" style=\"pointer-events: none;\"><text text-anchor=\"middle\" transform=\"translate(150,-7)\" style=\"font-family: sans-serif; font-size: 13px; font-weight: bold; fill: #000; opacity: 1;\">Golem Min Cost</text></g><g class=\"mark-group role-axis\"><g transform=\"translate(0.5,200.5)\"><path class=\"background\" d=\"M0,0h0v0h0Z\" style=\"pointer-events: none; fill: none;\"></path><g><g class=\"mark-rule role-axis-tick\" style=\"pointer-events: none;\"><line transform=\"translate(10,0)\" x2=\"0\" y2=\"5\" style=\"fill: none; stroke: #888; stroke-width: 1; opacity: 1;\"></line><line transform=\"translate(30,0)\" x2=\"0\" y2=\"5\" style=\"fill: none; stroke: #888; stroke-width: 1; opacity: 1;\"></line><line transform=\"translate(50,0)\" x2=\"0\" y2=\"5\" style=\"fill: none; stroke: #888; stroke-width: 1; opacity: 1;\"></line><line transform=\"translate(70,0)\" x2=\"0\" y2=\"5\" style=\"fill: none; stroke: #888; stroke-width: 1; opacity: 1;\"></line><line transform=\"translate(90,0)\" x2=\"0\" y2=\"5\" style=\"fill: none; stroke: #888; stroke-width: 1; opacity: 1;\"></line><line transform=\"translate(110,0)\" x2=\"0\" y2=\"5\" style=\"fill: none; stroke: #888; stroke-width: 1; opacity: 1;\"></line><line transform=\"translate(130,0)\" x2=\"0\" y2=\"5\" style=\"fill: none; stroke: #888; stroke-width: 1; opacity: 1;\"></line><line transform=\"translate(150,0)\" x2=\"0\" y2=\"5\" style=\"fill: none; stroke: #888; stroke-width: 1; opacity: 1;\"></line><line transform=\"translate(170,0)\" x2=\"0\" y2=\"5\" style=\"fill: none; stroke: #888; stroke-width: 1; opacity: 1;\"></line><line transform=\"translate(190,0)\" x2=\"0\" y2=\"5\" style=\"fill: none; stroke: #888; stroke-width: 1; opacity: 1;\"></line><line transform=\"translate(210,0)\" x2=\"0\" y2=\"5\" style=\"fill: none; stroke: #888; stroke-width: 1; opacity: 1;\"></line><line transform=\"translate(230,0)\" x2=\"0\" y2=\"5\" style=\"fill: none; stroke: #888; stroke-width: 1; opacity: 1;\"></line><line transform=\"translate(250,0)\" x2=\"0\" y2=\"5\" style=\"fill: none; stroke: #888; stroke-width: 1; opacity: 1;\"></line><line transform=\"translate(270,0)\" x2=\"0\" y2=\"5\" style=\"fill: none; stroke: #888; stroke-width: 1; opacity: 1;\"></line><line transform=\"translate(290,0)\" x2=\"0\" y2=\"5\" style=\"fill: none; stroke: #888; stroke-width: 1; opacity: 1;\"></line></g><g class=\"mark-text role-axis-label\" style=\"pointer-events: none;\"><text text-anchor=\"end\" transform=\"translate(10,7) rotate(270) translate(0,3)\" style=\"font-family: sans-serif; font-size: 10px; fill: #000; opacity: 1;\">0</text><text text-anchor=\"end\" transform=\"translate(30,7) rotate(270) translate(0,3)\" style=\"font-family: sans-serif; font-size: 10px; fill: #000; opacity: 1;\">3</text><text text-anchor=\"end\" transform=\"translate(50,7) rotate(270) translate(0,3)\" style=\"font-family: sans-serif; font-size: 10px; fill: #000; opacity: 1;\">7</text><text text-anchor=\"end\" transform=\"translate(70,7) rotate(270) translate(0,3)\" style=\"font-family: sans-serif; font-size: 10px; fill: #000; opacity: 1;\">12</text><text text-anchor=\"end\" transform=\"translate(90,7) rotate(270) translate(0,3)\" style=\"font-family: sans-serif; font-size: 10px; fill: #000; opacity: 1;\">19</text><text text-anchor=\"end\" transform=\"translate(110,7) rotate(270) translate(0,3)\" style=\"font-family: sans-serif; font-size: 10px; fill: #000; opacity: 1;\">29</text><text text-anchor=\"end\" transform=\"translate(130,7) rotate(270) translate(0,3)\" style=\"font-family: sans-serif; font-size: 10px; fill: #000; opacity: 1;\">43</text><text text-anchor=\"end\" transform=\"translate(150,7) rotate(270) translate(0,3)\" style=\"font-family: sans-serif; font-size: 10px; fill: #000; opacity: 1;\">63</text><text text-anchor=\"end\" transform=\"translate(170,7) rotate(270) translate(0,3)\" style=\"font-family: sans-serif; font-size: 10px; fill: #000; opacity: 1;\">91</text><text text-anchor=\"end\" transform=\"translate(190,7) rotate(270) translate(0,3)\" style=\"font-family: sans-serif; font-size: 10px; fill: #000; opacity: 1;\">131</text><text text-anchor=\"end\" transform=\"translate(210,7) rotate(270) translate(0,3)\" style=\"font-family: sans-serif; font-size: 10px; fill: #000; opacity: 1;\">149</text><text text-anchor=\"end\" transform=\"translate(230,7) rotate(270) translate(0,3)\" style=\"font-family: sans-serif; font-size: 10px; fill: #000; opacity: 1;\">165</text><text text-anchor=\"end\" transform=\"translate(250,7) rotate(270) translate(0,3)\" style=\"font-family: sans-serif; font-size: 10px; fill: #000; opacity: 1;\">181</text><text text-anchor=\"end\" transform=\"translate(270,7) rotate(270) translate(0,3)\" style=\"font-family: sans-serif; font-size: 10px; fill: #000; opacity: 1;\">197</text><text text-anchor=\"end\" transform=\"translate(290,7) rotate(270) translate(0,3)\" style=\"font-family: sans-serif; font-size: 10px; fill: #000; opacity: 1;\">213</text></g><g class=\"mark-rule role-axis-domain\" style=\"pointer-events: none;\"><line transform=\"translate(0,0)\" x2=\"300\" y2=\"0\" style=\"fill: none; stroke: #888; stroke-width: 1; opacity: 1;\"></line></g><g class=\"mark-text role-axis-title\" style=\"pointer-events: none;\"><text text-anchor=\"middle\" transform=\"translate(150,45)\" style=\"font-family: sans-serif; font-size: 11px; font-weight: bold; fill: #000; opacity: 1;\">i</text></g></g></g></g><g class=\"mark-group role-axis\"><g transform=\"translate(0.5,0.5)\"><path class=\"background\" d=\"M0,0h0v0h0Z\" style=\"pointer-events: none; fill: none;\"></path><g><g class=\"mark-rule role-axis-tick\" style=\"pointer-events: none;\"><line transform=\"translate(0,200)\" x2=\"-5\" y2=\"0\" style=\"fill: none; stroke: #888; stroke-width: 1; opacity: 1;\"></line><line transform=\"translate(0,158)\" x2=\"-5\" y2=\"0\" style=\"fill: none; stroke: #888; stroke-width: 1; opacity: 1;\"></line><line transform=\"translate(0,117)\" x2=\"-5\" y2=\"0\" style=\"fill: none; stroke: #888; stroke-width: 1; opacity: 1;\"></line><line transform=\"translate(0,75)\" x2=\"-5\" y2=\"0\" style=\"fill: none; stroke: #888; stroke-width: 1; opacity: 1;\"></line><line transform=\"translate(0,33)\" x2=\"-5\" y2=\"0\" style=\"fill: none; stroke: #888; stroke-width: 1; opacity: 1;\"></line></g><g class=\"mark-text role-axis-label\" style=\"pointer-events: none;\"><text text-anchor=\"end\" transform=\"translate(-7,203)\" style=\"font-family: sans-serif; font-size: 10px; fill: #000; opacity: 1;\">0</text><text text-anchor=\"end\" transform=\"translate(-7,161.33333333333331)\" style=\"font-family: sans-serif; font-size: 10px; fill: #000; opacity: 1;\">5</text><text text-anchor=\"end\" transform=\"translate(-7,119.66666666666666)\" style=\"font-family: sans-serif; font-size: 10px; fill: #000; opacity: 1;\">10</text><text text-anchor=\"end\" transform=\"translate(-7,78)\" style=\"font-family: sans-serif; font-size: 10px; fill: #000; opacity: 1;\">15</text><text text-anchor=\"end\" transform=\"translate(-7,36.333333333333314)\" style=\"font-family: sans-serif; font-size: 10px; fill: #000; opacity: 1;\">20</text></g><g class=\"mark-rule role-axis-domain\" style=\"pointer-events: none;\"><line transform=\"translate(0,200)\" x2=\"0\" y2=\"-200\" style=\"fill: none; stroke: #888; stroke-width: 1; opacity: 1;\"></line></g><g class=\"mark-text role-axis-title\" style=\"pointer-events: none;\"><text text-anchor=\"middle\" transform=\"translate(-28,100) rotate(-90) translate(0,-2)\" style=\"font-family: sans-serif; font-size: 11px; font-weight: bold; fill: #000; opacity: 1;\">min_cost</text></g></g></g></g></g></g></g></g></g></g></g></svg>"
      ]
     },
     "execution_count": 12,
     "metadata": {},
     "output_type": "execute_result"
    }
   ],
   "source": [
    "var {jvl} = require('jvl')\n",
    "var spec = {\n",
    "  vconcat: [{\n",
    "    mark: 'point',\n",
    "    title: 'Golem Population',\n",
    "    encoding: {\n",
    "      x: {field: 'i', type: 'ordinal'},\n",
    "      y: {field: 'population', type: 'quantitative'}\n",
    "    }\n",
    "  }, {\n",
    "    mark: 'point',\n",
    "    title: 'Golem Max Cost',\n",
    "    encoding: {\n",
    "      x: {field: 'i', type: 'ordinal'},\n",
    "      y: {field: 'max_cost', type: 'quantitative'}\n",
    "    } \n",
    "  }, {\n",
    "    mark: 'point',\n",
    "    title: 'Golem Min Cost',\n",
    "    encoding: {\n",
    "      x: {field: 'i', type: 'ordinal'},\n",
    "      y: {field: 'min_cost', type: 'quantitative'}\n",
    "    }\n",
    "  }],\n",
    "  data: {\n",
    "    values: records\n",
    "  },\n",
    "  width: 600\n",
    "};\n",
    "\n",
    "jvl(spec);"
   ]
  }
 ],
 "metadata": {
  "kernelspec": {
   "display_name": "Javascript (Node.js)",
   "language": "javascript",
   "name": "javascript"
  },
  "language_info": {
   "file_extension": ".js",
   "mimetype": "application/javascript",
   "name": "javascript",
   "version": "12.18.3"
  }
 },
 "nbformat": 4,
 "nbformat_minor": 4
}
