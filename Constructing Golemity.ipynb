{
 "cells": [
  {
   "cell_type": "markdown",
   "metadata": {},
   "source": [
    "# Gosh the Golemity\n",
    "\n",
    "By [Joshua M. Moore](mailto:moore.joshua@pm.me)<br>\n",
    "On July 29th, 2020"
   ]
  },
  {
   "cell_type": "markdown",
   "metadata": {},
   "source": [
    "In this notebook, I try to build smarter golems. It is comprised of five parts, progressively building on each other.\n",
    "\n",
    "1. The Gene\n",
    "2. Parsing: An Interlude\n",
    "3. The Golem\n",
    "4. The Selection\n",
    "5. Visualization"
   ]
  },
  {
   "cell_type": "markdown",
   "metadata": {},
   "source": [
    "## 1 - The Gene"
   ]
  },
  {
   "cell_type": "code",
   "execution_count": 1,
   "metadata": {},
   "outputs": [],
   "source": [
    "var {performance} = require('perf_hooks');\n",
    "var peg = require('pegjs');\n",
    "var fs = require('fs');\n",
    "var g = fs.readFileSync('./node_modules/pegjs/examples/javascript.pegjs', 'utf8');\n",
    "var parser = peg.generate(g, {\n",
    "  cache: true\n",
    "})\n",
    "var copy = x => parseFloat(x);\n",
    "\n",
    "var Gene = class Gene {\n",
    "  constructor(code){\n",
    "    this.code = code;\n",
    "    this.cost = Infinity;\n",
    "    this.calcCost();\n",
    "  }\n",
    "  \n",
    "  cross(other){\n",
    "    var middle = Math.round(Math.floor(this.code.length/2));\n",
    "    var one = new Gene([\n",
    "      this.code.substring(0, middle), \n",
    "      other.code.substring(middle)\n",
    "    ].join(''));\n",
    "    \n",
    "    middle = Math.round(Math.floor(other.code.length/2));\n",
    "    var two = new Gene([\n",
    "      other.code.substring(0, middle),\n",
    "      this.code.substring(middle),\n",
    "    ].join(''));\n",
    "    \n",
    "    return [one, two];\n",
    "  }\n",
    "  \n",
    "  randomCross(other, slide=0.5){\n",
    "    var makeScaled = \n",
    "        (xmin, xmax, ymax) =>\n",
    "          (x) => \n",
    "            ((x - xmin) / (xmax - xmin))*ymax;\n",
    "    \n",
    "    var scaledOne = makeScaled(0, this.code.length, other.code.length);\n",
    "    var scaledTwo = makeScaled(0, other.code.length, this.code.length);\n",
    "    \n",
    "    return new Gene([...this.code].map(\n",
    "      (c, i) => Math.random() < slide ? \n",
    "        this.code[Math.round(scaledOne(i))] : \n",
    "        other.code[Math.round(scaledTwo(i))]\n",
    "    ).join(''))\n",
    "  }\n",
    "  \n",
    "  mutate(by=1.0){\n",
    "    this.code = String.fromCharCode.apply(String, [...this.code].map((c, i) => {\n",
    "      var cc = this.code.charCodeAt(i);\n",
    "      \n",
    "      var howMuch = Math.round(by * Math.random() * (126 - 32));\n",
    "      \n",
    "      cc -= howMuch;\n",
    "      \n",
    "      if(cc < 32){\n",
    "        cc = 126 - (32 - cc);\n",
    "      }\n",
    "      \n",
    "      return cc;\n",
    "    }))\n",
    "    \n",
    "    this.calcCost();\n",
    "    \n",
    "    return this;\n",
    "  }\n",
    "  \n",
    "  calcCost(chromosomeCost=Gene.defaultChromosomeCost){\n",
    "    this.cost = [...this.code].reduce((total, c, i) => total + chromosomeCost(c, i), 0);\n",
    "    return this;\n",
    "  }\n",
    "  \n",
    "  static defaultChromosomeCost(c, i){\n",
    "    var t0;\n",
    "    try{\n",
    "      t0 = performance.now();\n",
    "      parser.parse(this.code);\n",
    "    }catch(e){\n",
    "    }finally{\n",
    "      return performance.now() - t0;\n",
    "    }\n",
    "  }\n",
    "  \n",
    "  copy(){\n",
    "    return new Gene(this.code);\n",
    "  }\n",
    "}"
   ]
  },
  {
   "cell_type": "code",
   "execution_count": 2,
   "metadata": {},
   "outputs": [
    {
     "data": {
      "text/plain": [
       "Gene { code: 'Hello', cost: 0.4895750004798174 }"
      ]
     },
     "execution_count": 2,
     "metadata": {},
     "output_type": "execute_result"
    }
   ],
   "source": [
    "var gene = new Gene(\"Hello\")\n",
    "gene"
   ]
  },
  {
   "cell_type": "code",
   "execution_count": 3,
   "metadata": {},
   "outputs": [
    {
     "data": {
      "text/plain": [
       "Gene { code: 'World', cost: 11.964382000267506 }"
      ]
     },
     "execution_count": 3,
     "metadata": {},
     "output_type": "execute_result"
    }
   ],
   "source": [
    "var gene2 = new Gene(\"World\")\n",
    "gene2"
   ]
  },
  {
   "cell_type": "code",
   "execution_count": 4,
   "metadata": {},
   "outputs": [
    {
     "data": {
      "text/plain": [
       "Gene { code: 'Worlo', cost: 0.43239699956029654 }"
      ]
     },
     "execution_count": 4,
     "metadata": {},
     "output_type": "execute_result"
    }
   ],
   "source": [
    "gene.randomCross(gene2)"
   ]
  },
  {
   "cell_type": "markdown",
   "metadata": {},
   "source": [
    "This, just with syllables would be killer, and might try to explain on a toy example, shifts in language, although that probably requires the Golems writing their own standard for beauty... What if the golems got to just pick a random evaluation function, by which they rank each other? A popularity contest."
   ]
  },
  {
   "cell_type": "markdown",
   "metadata": {},
   "source": [
    "Sounds like a LISP might be in order."
   ]
  },
  {
   "cell_type": "code",
   "execution_count": 5,
   "metadata": {},
   "outputs": [],
   "source": [
    "var gene3 = new Gene('Ronald Marshall Moore');\n",
    "var gene4 = new Gene('Susanne Ute Dressel');"
   ]
  },
  {
   "cell_type": "code",
   "execution_count": 6,
   "metadata": {},
   "outputs": [
    {
     "data": {
      "text/plain": [
       "Gene { code: 'Susane UtarsrelelM', cost: 14.39818200096488 }"
      ]
     },
     "execution_count": 6,
     "metadata": {},
     "output_type": "execute_result"
    }
   ],
   "source": [
    "gene5 = gene3.randomCross(gene4)"
   ]
  },
  {
   "cell_type": "markdown",
   "metadata": {},
   "source": [
    "Here are fifty variations: "
   ]
  },
  {
   "cell_type": "code",
   "execution_count": 7,
   "metadata": {},
   "outputs": [
    {
     "name": "stdout",
     "output_type": "stream",
     "text": [
      "Gene { code: 'Josgta}M`rrhalk Looqd', cost: 19.026121999137104 }\n",
      "Gene { code: 'Jnrfsa}M_qqg`kj Lnnpc', cost: 1.3782809991389513 }\n",
      "Gene { code: 'Imres`|L^pqf_ki Kmmpb', cost: 9.564641002565622 }\n",
      "Gene { code: 'Hmqer`{K^pqf_ji Jmloa', cost: 1.3339749993756413 }\n",
      "Gene { code: 'Gmqdr_zJ^pqe_ii Jmkn`', cost: 6.54664400126785 }\n",
      "Gene { code: 'Flpdq_yI]ope_hh}Imjm_', cost: 4.6919159991666675 }\n",
      "Gene { code: 'Elpcp_yH\\\\ooe^gh|Imjm^', cost: 3.033835000358522 }\n",
      "Gene { code: 'Dkpbo_xG[nod]gh{Ilim]', cost: 8.56483799777925 }\n",
      "Gene { code: 'Ckpan^xGZnnc\\\\gh{Ikil\\\\', cost: 1.7159790005534887 }\n",
      "Gene { code: 'Cjpam^xGZmmb[fgzHjhk[', cost: 1.3235359992831945 }\n",
      "Gene { code: 'Bip`m]xFYllaZfgyGjhjZ', cost: 1.3395979972556233 }\n",
      "Gene { code: 'Bhp_l\\\\wEXllaYffyGjgiZ', cost: 9.828358000144362 }\n",
      "Gene { code: 'Bgo^k[wDWkk`XeexGjfhZ', cost: 1.347414000891149 }\n",
      "Gene { code: 'Bfo]j[wCVkk`XddxFiehZ', cost: 1.3686920003965497 }\n",
      "Gene { code: 'Ben]i[wCUkj_XccxEhegY', cost: 6.635648000985384 }\n",
      "Gene { code: 'Ben]hZvCTki_WcbwDhdfX', cost: 7.303116999566555 }\n",
      "Gene { code: 'Adn]gYuCSjh^VbavDgceW', cost: 2.442066002637148 }\n",
      "Gene { code: '@cm]fXtBSjg]Va`vDgbdW', cost: 1.7387800011783838 }\n",
      "Gene { code: '?bl]fWsARjf]V``vCfbcV', cost: 1.3117040004581213 }\n",
      "Gene { code: '>al]fWsAQie]U``uBeacU', cost: 6.180097000673413 }\n",
      "Gene { code: '=`k]eVsAQhd\\\\U``uAeabU', cost: 1.644178000278771 }\n",
      "Gene { code: '=`j]eUs@Qhc\\\\U``tAd`aT', cost: 1.366448998451233 }\n",
      "Gene { code: '<`j]eUr@Pgb[U`_s@d``T', cost: 3.39291600137949 }\n",
      "Gene { code: ';_j]eTr?Ogb[U_^r?c``T', cost: 1.3616019980981946 }\n",
      "Gene { code: ';^j]dSr?OgbZT_^q>b``S', cost: 5.310216000303626 }\n",
      "0\n"
     ]
    }
   ],
   "source": [
    "var count = 25;\n",
    "gene5 = new Gene('Joshua Marshall Moore')\n",
    "\n",
    "do{\n",
    "  gene5.mutate(0.012)\n",
    "  console.log(gene5)\n",
    "  \n",
    "  count--;\n",
    "}while(count > 0);\n",
    "\n",
    "console.log(count)"
   ]
  },
  {
   "cell_type": "markdown",
   "metadata": {},
   "source": [
    "## 2 - Parsing: An Interlude"
   ]
  },
  {
   "cell_type": "code",
   "execution_count": 8,
   "metadata": {},
   "outputs": [
    {
     "name": "stdout",
     "output_type": "stream",
     "text": [
      "0 AUhAZZnb=rtLfe.hrz7IhCL4E06kfKJ$@=\"?DE[;k?e5uFEuTUqoh.<eYcnX>)Xq?bKZ2NFP|?F>lb\\ojq7F%,=2ciu9@\"GFc0XWL*p&wrm_.j|4`u<wT1^c%m[,FLp6`EhN@MBU-\"SaNR|^4wj7(DEy:rwYzg`dnx+9(Md7#7UJLd*$WgY7XUAU#_h6}J%8AAhCx&7VPtnc=63)iYNuWflSn1jVb.+m]A\\u)05-jX;osO#:Uf/%xSvTq;$bsP\\6c1Fbx|LmDsP1D<KDYD8ssP=XWaAC7SiI3+Ijt*_lLSeX\n"
     ]
    }
   ],
   "source": [
    "var genome = genome = new Gene(String.fromCharCode((126 - 32) / 2).repeat(300));\n",
    "\n",
    "// in biblical tradition, they are donts\n",
    "var commandments = [\n",
    "  /^\\/\\/.*/g\n",
    "];\n",
    "\n",
    "var count = 50;\n",
    "do{\n",
    "  var heed = command => command.test(genome);\n",
    "  var heeded = commandments.every(heed => !heed.test(genome.code));\n",
    "  \n",
    "  if(heeded){\n",
    "    try{\n",
    "      parser.parse(genome.code);\n",
    "    }catch(e){\n",
    "      genome.mutate(0.5)\n",
    "    }\n",
    "  }else{\n",
    "    genome.mutate(0.5)\n",
    "  }\n",
    "  \n",
    "  count--;\n",
    "}while(count > 0);\n",
    "\n",
    "console.log(count, genome.code)"
   ]
  },
  {
   "cell_type": "markdown",
   "metadata": {},
   "source": [
    "Still just random, there is no feedback for selection. "
   ]
  },
  {
   "cell_type": "markdown",
   "metadata": {},
   "source": [
    "## 3 - The Golem"
   ]
  },
  {
   "cell_type": "code",
   "execution_count": 9,
   "metadata": {},
   "outputs": [],
   "source": [
    "var generations = 50;\n",
    "\n",
    "var commandments = [\n",
    "  /^(?!\\/\\/$).*/\n",
    "];\n",
    "\n",
    "var Golem = class Golem {\n",
    "  constructor(){\n",
    "    this.genome = new Gene(String.fromCharCode((126 - 32) / 2).repeat(300));\n",
    "    this.genome.mutate(0.02);\n",
    "  }\n",
    "  \n",
    "  viable(){\n",
    "    var error = false;\n",
    "    var heed = command => command.test(genome);\n",
    "\n",
    "    if(commandments){\n",
    "      var heeded = commandments.every(heed => heed.test(genome.code));\n",
    "      if(!heeded) return false;\n",
    "    }\n",
    "    \n",
    "    try{\n",
    "      var t0 = performance.now();\n",
    "      parser.parse(genome.code);\n",
    "    }catch(e){\n",
    "      return false;\n",
    "    }finally{\n",
    "      return performance.now() - t0;\n",
    "    }\n",
    "  }\n",
    "  \n",
    "  mate(other){\n",
    "    var child = new Golem();\n",
    "    child.genome = this.genome.randomCross(other.genome);\n",
    "    \n",
    "    while(!child.viable()){\n",
    "      child.genome.mutate(0.05);\n",
    "    }\n",
    "    \n",
    "    return child;\n",
    "  }\n",
    "}\n",
    "\n",
    "var adam = new Golem();\n",
    "var eve = new Golem();\n",
    "var ohigod = new Golem();\n",
    "\n",
    "var golemity = [adam, eve, ohigod];"
   ]
  },
  {
   "cell_type": "markdown",
   "metadata": {},
   "source": [
    "## 4 - The Selection"
   ]
  },
  {
   "cell_type": "code",
   "execution_count": 10,
   "metadata": {},
   "outputs": [],
   "source": [
    "function ratchetStep(golem){\n",
    "  var mutated = golem.genome.copy().mutate(0.25);\n",
    "  \n",
    "  var m;\n",
    "  try{\n",
    "    var m0 = performance.now();\n",
    "    parser.parse(mutated);\n",
    "  }catch(e){\n",
    "  }finally{\n",
    "    m = performance.now() - m0;\n",
    "  }\n",
    "  \n",
    "  if(mutated.cost > golem.genome.cost){\n",
    "    golem.genome = mutated;\n",
    "  }\n",
    "  \n",
    "  return golem;\n",
    "}\n",
    "\n",
    "function byCostDesc(a, b){\n",
    "  return b.genome.cost - a.genome.cost;\n",
    "}"
   ]
  },
  {
   "cell_type": "code",
   "execution_count": 11,
   "metadata": {},
   "outputs": [
    {
     "ename": "TypeError",
     "evalue": "Cannot read property 'cost' of undefined",
     "execution_count": 11,
     "output_type": "error",
     "traceback": [
      "evalmachine.<anonymous>:21",
      "  return b.genome.cost - a.genome.cost;",
      "                  ^",
      "",
      "TypeError: Cannot read property 'cost' of undefined",
      "    at byCostDesc (evalmachine.<anonymous>:21:19)",
      "    at Array.sort (<anonymous>)",
      "    at evalmachine.<anonymous>:19:6",
      "    at Script.runInThisContext (vm.js:120:18)",
      "    at Object.runInThisContext (vm.js:309:38)",
      "    at run ([eval]:1054:15)",
      "    at onRunRequest ([eval]:888:18)",
      "    at onMessage ([eval]:848:13)",
      "    at process.emit (events.js:315:20)",
      "    at emit (internal/child_process.js:876:12)"
     ]
    }
   ],
   "source": [
    "var indicators = ['/', '-', '\\\\', '|'];\n",
    "var i=0;\n",
    "\n",
    "var countdown = 15;\n",
    "var POPULATION = 100;\n",
    "var BIRTH = 0.68;\n",
    "var DEATH = 0.15;\n",
    "var RADIATION = 0.025;\n",
    "\n",
    "var records = [];\n",
    "while(countdown--){\n",
    "  golemity = golemity.map(g => ratchetStep(g))\n",
    "    .filter(g => g !== undefined)\n",
    "    .sort(byCostDesc);\n",
    "  \n",
    "  // history\n",
    "  var previous = records[records.length - 1];\n",
    "  \n",
    "  // census\n",
    "  var record = {\n",
    "    'i': i, \n",
    "    'population': copy(golemity.length), \n",
    "    'population_change': 0.0,\n",
    "    'max_cost': copy(golemity[0].genome.cost),\n",
    "    'max_cost_change': 0.0,\n",
    "    'min_cost': copy(golemity[golemity.length-1].genome.cost),\n",
    "    'min_cost_change': 0.0,\n",
    "  };\n",
    "  \n",
    "  if(previous !== undefined){\n",
    "    record.population_change = record.population - previous.population;\n",
    "    record.max_cost_change = record.max_cost - previous.max_cost;\n",
    "    record.min_cost_change = record.min_cost - previous.min_cost;\n",
    "    // todo justify order\n",
    "  }\n",
    "  \n",
    "  records.push(record);\n",
    "  \n",
    "  // death\n",
    "  golemity = golemity.slice(\n",
    "    0, \n",
    "    golemity.length - Math.floor(golemity.length * DEATH)\n",
    "  )\n",
    "  \n",
    "  // birth\n",
    "  // Come to think of it, heaven must be hella weird.\n",
    "  var stepBirth = Math.floor(golemity.length * BIRTH);\n",
    "  \n",
    "  while(stepBirth > 0 && golemity.length < POPULATION){\n",
    "    var a = Math.floor(Math.random() * golemity.length);\n",
    "    var b = Math.floor(Math.random() * golemity.length);\n",
    "    \n",
    "    var mini = golemity[a].mate(golemity[b])\n",
    "    golemity.push(mini);\n",
    "    stepBirth--;\n",
    "      \n",
    "    process.stdout.write(`${indicators[i++%indicators.length]}\\r`);\n",
    "  }\n",
    "  \n",
    "  process.stdout.write(`${indicators[i++%indicators.length]} ${countdown} rounds remaining\\r`);\n",
    "}\n",
    "\n",
    "console.table(records);\n",
    "console.log(golemity[0]);"
   ]
  },
  {
   "cell_type": "markdown",
   "metadata": {},
   "source": [
    "## 5 - Visualizations"
   ]
  },
  {
   "cell_type": "code",
   "execution_count": 12,
   "metadata": {},
   "outputs": [
    {
     "data": {
      "image/svg+xml": [
       "<svg class=\"marks\" width=\"180\" height=\"761\" viewBox=\"0 0 180 761\" version=\"1.1\" xmlns=\"http://www.w3.org/2000/svg\" xmlns:xlink=\"http://www.w3.org/1999/xlink\"><g transform=\"translate(90,24)\"><g class=\"mark-group role-frame root\"><g transform=\"translate(0,0)\"><path class=\"background\" d=\"M0,0h0v0h0Z\" style=\"fill: none;\"></path><g><g class=\"mark-group role-scope concat_0_group\"><g transform=\"translate(0,0)\"><path class=\"background\" d=\"M0.5,0.5h0v200h0Z\" style=\"fill: none; stroke: #ddd;\"></path><g><g class=\"mark-group role-axis\"><g transform=\"translate(0.5,0.5)\"><path class=\"background\" d=\"M0,0h0v0h0Z\" style=\"pointer-events: none; fill: none;\"></path><g><g class=\"mark-rule role-axis-grid\" style=\"pointer-events: none;\"></g></g></g></g><g class=\"mark-symbol role-mark concat_0_marks\"></g><g class=\"mark-text role-title\" style=\"pointer-events: none;\"><text text-anchor=\"middle\" transform=\"translate(0,-7)\" style=\"font-family: sans-serif; font-size: 13px; font-weight: bold; fill: #000; opacity: 1;\">Golem Population</text></g><g class=\"mark-group role-axis\"><g transform=\"translate(0.5,200.5)\"><path class=\"background\" d=\"M0,0h0v0h0Z\" style=\"pointer-events: none; fill: none;\"></path><g><g class=\"mark-rule role-axis-tick\" style=\"pointer-events: none;\"></g><g class=\"mark-text role-axis-label\" style=\"pointer-events: none;\"></g><g class=\"mark-rule role-axis-domain\" style=\"pointer-events: none;\"><line transform=\"translate(0,0)\" x2=\"0\" y2=\"0\" style=\"fill: none; stroke: #888; stroke-width: 1; opacity: 1;\"></line></g><g class=\"mark-text role-axis-title\" style=\"pointer-events: none;\"><text text-anchor=\"middle\" transform=\"translate(0,13)\" style=\"font-family: sans-serif; font-size: 11px; font-weight: bold; fill: #000; opacity: 1;\">i</text></g></g></g></g><g class=\"mark-group role-axis\"><g transform=\"translate(0.5,0.5)\"><path class=\"background\" d=\"M0,0h0v0h0Z\" style=\"pointer-events: none; fill: none;\"></path><g><g class=\"mark-rule role-axis-tick\" style=\"pointer-events: none;\"></g><g class=\"mark-text role-axis-label\" style=\"pointer-events: none;\"></g><g class=\"mark-rule role-axis-domain\" style=\"pointer-events: none;\"><line transform=\"translate(0,200)\" x2=\"0\" y2=\"-200\" style=\"fill: none; stroke: #888; stroke-width: 1; opacity: 1;\"></line></g><g class=\"mark-text role-axis-title\" style=\"pointer-events: none;\"><text text-anchor=\"middle\" transform=\"translate(-4,100) rotate(-90) translate(0,-2)\" style=\"font-family: sans-serif; font-size: 11px; font-weight: bold; fill: #000; opacity: 1;\">population</text></g></g></g></g></g></g></g><g class=\"mark-group role-scope concat_1_group\"><g transform=\"translate(0,257)\"><path class=\"background\" d=\"M0.5,0.5h0v200h0Z\" style=\"fill: none; stroke: #ddd;\"></path><g><g class=\"mark-group role-axis\"><g transform=\"translate(0.5,0.5)\"><path class=\"background\" d=\"M0,0h0v0h0Z\" style=\"pointer-events: none; fill: none;\"></path><g><g class=\"mark-rule role-axis-grid\" style=\"pointer-events: none;\"></g></g></g></g><g class=\"mark-symbol role-mark concat_1_marks\"></g><g class=\"mark-text role-title\" style=\"pointer-events: none;\"><text text-anchor=\"middle\" transform=\"translate(0,-7)\" style=\"font-family: sans-serif; font-size: 13px; font-weight: bold; fill: #000; opacity: 1;\">Golem Max Cost</text></g><g class=\"mark-group role-axis\"><g transform=\"translate(0.5,200.5)\"><path class=\"background\" d=\"M0,0h0v0h0Z\" style=\"pointer-events: none; fill: none;\"></path><g><g class=\"mark-rule role-axis-tick\" style=\"pointer-events: none;\"></g><g class=\"mark-text role-axis-label\" style=\"pointer-events: none;\"></g><g class=\"mark-rule role-axis-domain\" style=\"pointer-events: none;\"><line transform=\"translate(0,0)\" x2=\"0\" y2=\"0\" style=\"fill: none; stroke: #888; stroke-width: 1; opacity: 1;\"></line></g><g class=\"mark-text role-axis-title\" style=\"pointer-events: none;\"><text text-anchor=\"middle\" transform=\"translate(0,13)\" style=\"font-family: sans-serif; font-size: 11px; font-weight: bold; fill: #000; opacity: 1;\">i</text></g></g></g></g><g class=\"mark-group role-axis\"><g transform=\"translate(0.5,0.5)\"><path class=\"background\" d=\"M0,0h0v0h0Z\" style=\"pointer-events: none; fill: none;\"></path><g><g class=\"mark-rule role-axis-tick\" style=\"pointer-events: none;\"></g><g class=\"mark-text role-axis-label\" style=\"pointer-events: none;\"></g><g class=\"mark-rule role-axis-domain\" style=\"pointer-events: none;\"><line transform=\"translate(0,200)\" x2=\"0\" y2=\"-200\" style=\"fill: none; stroke: #888; stroke-width: 1; opacity: 1;\"></line></g><g class=\"mark-text role-axis-title\" style=\"pointer-events: none;\"><text text-anchor=\"middle\" transform=\"translate(-4,100) rotate(-90) translate(0,-2)\" style=\"font-family: sans-serif; font-size: 11px; font-weight: bold; fill: #000; opacity: 1;\">max_cost</text></g></g></g></g></g></g></g><g class=\"mark-group role-scope concat_2_group\"><g transform=\"translate(0,514)\"><path class=\"background\" d=\"M0.5,0.5h0v200h0Z\" style=\"fill: none; stroke: #ddd;\"></path><g><g class=\"mark-group role-axis\"><g transform=\"translate(0.5,0.5)\"><path class=\"background\" d=\"M0,0h0v0h0Z\" style=\"pointer-events: none; fill: none;\"></path><g><g class=\"mark-rule role-axis-grid\" style=\"pointer-events: none;\"></g></g></g></g><g class=\"mark-symbol role-mark concat_2_marks\"></g><g class=\"mark-text role-title\" style=\"pointer-events: none;\"><text text-anchor=\"middle\" transform=\"translate(0,-7)\" style=\"font-family: sans-serif; font-size: 13px; font-weight: bold; fill: #000; opacity: 1;\">Golem Min Cost</text></g><g class=\"mark-group role-axis\"><g transform=\"translate(0.5,200.5)\"><path class=\"background\" d=\"M0,0h0v0h0Z\" style=\"pointer-events: none; fill: none;\"></path><g><g class=\"mark-rule role-axis-tick\" style=\"pointer-events: none;\"></g><g class=\"mark-text role-axis-label\" style=\"pointer-events: none;\"></g><g class=\"mark-rule role-axis-domain\" style=\"pointer-events: none;\"><line transform=\"translate(0,0)\" x2=\"0\" y2=\"0\" style=\"fill: none; stroke: #888; stroke-width: 1; opacity: 1;\"></line></g><g class=\"mark-text role-axis-title\" style=\"pointer-events: none;\"><text text-anchor=\"middle\" transform=\"translate(0,13)\" style=\"font-family: sans-serif; font-size: 11px; font-weight: bold; fill: #000; opacity: 1;\">i</text></g></g></g></g><g class=\"mark-group role-axis\"><g transform=\"translate(0.5,0.5)\"><path class=\"background\" d=\"M0,0h0v0h0Z\" style=\"pointer-events: none; fill: none;\"></path><g><g class=\"mark-rule role-axis-tick\" style=\"pointer-events: none;\"></g><g class=\"mark-text role-axis-label\" style=\"pointer-events: none;\"></g><g class=\"mark-rule role-axis-domain\" style=\"pointer-events: none;\"><line transform=\"translate(0,200)\" x2=\"0\" y2=\"-200\" style=\"fill: none; stroke: #888; stroke-width: 1; opacity: 1;\"></line></g><g class=\"mark-text role-axis-title\" style=\"pointer-events: none;\"><text text-anchor=\"middle\" transform=\"translate(-4,100) rotate(-90) translate(0,-2)\" style=\"font-family: sans-serif; font-size: 11px; font-weight: bold; fill: #000; opacity: 1;\">min_cost</text></g></g></g></g></g></g></g></g></g></g></g></svg>"
      ]
     },
     "execution_count": 12,
     "metadata": {},
     "output_type": "execute_result"
    }
   ],
   "source": [
    "var {jvl} = require('jvl')\n",
    "var spec = {\n",
    "  vconcat: [{\n",
    "    mark: 'point',\n",
    "    title: 'Golem Population',\n",
    "    encoding: {\n",
    "      x: {field: 'i', type: 'ordinal'},\n",
    "      y: {field: 'population', type: 'quantitative'}\n",
    "    }\n",
    "  }, {\n",
    "    mark: 'point',\n",
    "    title: 'Golem Max Cost',\n",
    "    encoding: {\n",
    "      x: {field: 'i', type: 'ordinal'},\n",
    "      y: {field: 'max_cost', type: 'quantitative'}\n",
    "    } \n",
    "  }, {\n",
    "    mark: 'point',\n",
    "    title: 'Golem Min Cost',\n",
    "    encoding: {\n",
    "      x: {field: 'i', type: 'ordinal'},\n",
    "      y: {field: 'min_cost', type: 'quantitative'}\n",
    "    }\n",
    "  }],\n",
    "  data: {\n",
    "    values: records\n",
    "  },\n",
    "  width: 600\n",
    "};\n",
    "\n",
    "jvl(spec);"
   ]
  }
 ],
 "metadata": {
  "kernelspec": {
   "display_name": "Javascript (Node.js)",
   "language": "javascript",
   "name": "javascript"
  },
  "language_info": {
   "file_extension": ".js",
   "mimetype": "application/javascript",
   "name": "javascript",
   "version": "12.18.3"
  }
 },
 "nbformat": 4,
 "nbformat_minor": 4
}
